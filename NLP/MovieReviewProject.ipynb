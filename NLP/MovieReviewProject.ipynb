{
 "cells": [
  {
   "cell_type": "markdown",
   "id": "2a0feae7",
   "metadata": {},
   "source": [
    "# 네이버 영화리뷰 감성분석 도전하기"
   ]
  },
  {
   "cell_type": "markdown",
   "id": "77a231d7",
   "metadata": {},
   "source": [
    "## Naver sentiment movie corpus 데이터 연결\n",
    "---"
   ]
  },
  {
   "cell_type": "code",
   "execution_count": 1,
   "id": "ef12e165",
   "metadata": {},
   "outputs": [
    {
     "name": "stdout",
     "output_type": "stream",
     "text": [
      "ln: failed to create symbolic link '/aiffel/aiffel/NLP/sentiment_classification/data/ratings_test.txt': File exists\r\n",
      "ln: failed to create symbolic link '/aiffel/aiffel/NLP/sentiment_classification/data/ratings_train.txt': File exists\r\n"
     ]
    }
   ],
   "source": [
    "! ln -s ~/data/*.txt ~/aiffel/NLP/sentiment_classification/data"
   ]
  },
  {
   "cell_type": "markdown",
   "id": "835e6e30",
   "metadata": {},
   "source": [
    "## 사용할 라이브러리 버전 확인\n",
    "---"
   ]
  },
  {
   "cell_type": "code",
   "execution_count": 2,
   "id": "4359ebad",
   "metadata": {},
   "outputs": [
    {
     "name": "stdout",
     "output_type": "stream",
     "text": [
      "1.3.3\n",
      "0.5.2\n",
      "4.1.2\n"
     ]
    }
   ],
   "source": [
    "import pandas\n",
    "import konlpy\n",
    "import gensim\n",
    "\n",
    "print(pandas.__version__)\n",
    "print(konlpy.__version__)\n",
    "print(gensim.__version__)"
   ]
  },
  {
   "cell_type": "markdown",
   "id": "795641de",
   "metadata": {},
   "source": [
    "## 1) 데이터 준비와 확인\n",
    "---"
   ]
  },
  {
   "cell_type": "code",
   "execution_count": 3,
   "id": "bf40201e",
   "metadata": {},
   "outputs": [
    {
     "data": {
      "text/html": [
       "<div>\n",
       "<style scoped>\n",
       "    .dataframe tbody tr th:only-of-type {\n",
       "        vertical-align: middle;\n",
       "    }\n",
       "\n",
       "    .dataframe tbody tr th {\n",
       "        vertical-align: top;\n",
       "    }\n",
       "\n",
       "    .dataframe thead th {\n",
       "        text-align: right;\n",
       "    }\n",
       "</style>\n",
       "<table border=\"1\" class=\"dataframe\">\n",
       "  <thead>\n",
       "    <tr style=\"text-align: right;\">\n",
       "      <th></th>\n",
       "      <th>id</th>\n",
       "      <th>document</th>\n",
       "      <th>label</th>\n",
       "    </tr>\n",
       "  </thead>\n",
       "  <tbody>\n",
       "    <tr>\n",
       "      <th>0</th>\n",
       "      <td>9976970</td>\n",
       "      <td>아 더빙.. 진짜 짜증나네요 목소리</td>\n",
       "      <td>0</td>\n",
       "    </tr>\n",
       "    <tr>\n",
       "      <th>1</th>\n",
       "      <td>3819312</td>\n",
       "      <td>흠...포스터보고 초딩영화줄....오버연기조차 가볍지 않구나</td>\n",
       "      <td>1</td>\n",
       "    </tr>\n",
       "    <tr>\n",
       "      <th>2</th>\n",
       "      <td>10265843</td>\n",
       "      <td>너무재밓었다그래서보는것을추천한다</td>\n",
       "      <td>0</td>\n",
       "    </tr>\n",
       "    <tr>\n",
       "      <th>3</th>\n",
       "      <td>9045019</td>\n",
       "      <td>교도소 이야기구먼 ..솔직히 재미는 없다..평점 조정</td>\n",
       "      <td>0</td>\n",
       "    </tr>\n",
       "    <tr>\n",
       "      <th>4</th>\n",
       "      <td>6483659</td>\n",
       "      <td>사이몬페그의 익살스런 연기가 돋보였던 영화!스파이더맨에서 늙어보이기만 했던 커스틴 ...</td>\n",
       "      <td>1</td>\n",
       "    </tr>\n",
       "  </tbody>\n",
       "</table>\n",
       "</div>"
      ],
      "text/plain": [
       "         id                                           document  label\n",
       "0   9976970                                아 더빙.. 진짜 짜증나네요 목소리      0\n",
       "1   3819312                  흠...포스터보고 초딩영화줄....오버연기조차 가볍지 않구나      1\n",
       "2  10265843                                  너무재밓었다그래서보는것을추천한다      0\n",
       "3   9045019                      교도소 이야기구먼 ..솔직히 재미는 없다..평점 조정      0\n",
       "4   6483659  사이몬페그의 익살스런 연기가 돋보였던 영화!스파이더맨에서 늙어보이기만 했던 커스틴 ...      1"
      ]
     },
     "execution_count": 3,
     "metadata": {},
     "output_type": "execute_result"
    }
   ],
   "source": [
    "import pandas as pd\n",
    "\n",
    "# 데이터를 읽어봅시다. \n",
    "train_data = pd.read_table('~/aiffel/NLP/sentiment_classification/data/ratings_train.txt')\n",
    "test_data = pd.read_table('~/aiffel/NLP/sentiment_classification/data/ratings_test.txt')\n",
    "\n",
    "train_data.head()"
   ]
  },
  {
   "cell_type": "code",
   "execution_count": 4,
   "id": "c9e83c9b",
   "metadata": {},
   "outputs": [
    {
     "data": {
      "text/plain": [
       "<AxesSubplot:>"
      ]
     },
     "execution_count": 4,
     "metadata": {},
     "output_type": "execute_result"
    },
    {
     "data": {
      "image/png": "[encoded data removed]",
      "text/plain": [
       "<Figure size 432x288 with 1 Axes>"
      ]
     },
     "metadata": {
      "needs_background": "light"
     },
     "output_type": "display_data"
    }
   ],
   "source": [
    "train_data['label'].value_counts().plot(kind = 'bar')"
   ]
  },
  {
   "cell_type": "markdown",
   "id": "17d34ea2",
   "metadata": {},
   "source": [
    "## 2) 데이터로더 구성\n",
    "---\n",
    "\n",
    "- 데이터의 중복 제거\n",
    "- NaN 결측치 제거\n",
    "- 한국어 토크나이저로 토큰화\n",
    "- 불용어(Stopwords) 제거\n",
    "- 사전word_to_index 구성\n",
    "- 텍스트 스트링을 사전 인덱스 스트링으로 변환\n",
    "- X_train, y_train, X_test, y_test, word_to_index 리턴"
   ]
  },
  {
   "cell_type": "code",
   "execution_count": 5,
   "id": "416bc419",
   "metadata": {},
   "outputs": [],
   "source": [
    "from konlpy.tag import Mecab\n",
    "import numpy as np\n",
    "from collections import Counter\n",
    "\n",
    "tokenizer = Mecab()\n",
    "stopwords = ['의','가','이','은','들','는','좀','잘','걍','과','도','를','으로','자','에','와','한','하다']\n",
    "\n",
    "def load_data(train_data, test_data, num_words=10000):\n",
    "    train_data.drop_duplicates(subset=['document'], inplace=True)\n",
    "    train_data = train_data.dropna(how = 'any') \n",
    "    test_data.drop_duplicates(subset=['document'], inplace=True)\n",
    "    test_data = test_data.dropna(how = 'any') \n",
    "    \n",
    "    X_train = []\n",
    "    for sentence in train_data['document']:\n",
    "        temp_X = tokenizer.morphs(sentence) # 토큰화\n",
    "        temp_X = [word for word in temp_X if not word in stopwords] # 불용어 제거\n",
    "        X_train.append(temp_X)\n",
    "\n",
    "    X_test = []\n",
    "    for sentence in test_data['document']:\n",
    "        temp_X = tokenizer.morphs(sentence) # 토큰화\n",
    "        temp_X = [word for word in temp_X if not word in stopwords] # 불용어 제거\n",
    "        X_test.append(temp_X)\n",
    "    \n",
    "    words = np.concatenate(X_train).tolist()\n",
    "    counter = Counter(words)\n",
    "    counter = counter.most_common(num_words - 4)\n",
    "    vocab = ['<PAD>', '<BOS>', '<UNK>', '<UNUSED>'] + [key for key, _ in counter]\n",
    "    word_to_index = {word:index for index, word in enumerate(vocab)}\n",
    "        \n",
    "    def wordlist_to_indexlist(wordlist):\n",
    "        return [word_to_index[word] if word in word_to_index else word_to_index['<UNK>'] for word in wordlist]\n",
    "        \n",
    "    X_train = list(map(wordlist_to_indexlist, X_train))\n",
    "    X_test = list(map(wordlist_to_indexlist, X_test))\n",
    "        \n",
    "    return X_train, np.array(list(train_data['label'])), X_test, np.array(list(test_data['label'])), word_to_index\n",
    "    \n",
    "X_train, y_train, X_test, y_test, word_to_index = load_data(train_data, test_data) "
   ]
  },
  {
   "cell_type": "code",
   "execution_count": 6,
   "id": "12a9d0c8",
   "metadata": {},
   "outputs": [
    {
     "data": {
      "text/plain": [
       "10000"
      ]
     },
     "execution_count": 6,
     "metadata": {},
     "output_type": "execute_result"
    }
   ],
   "source": [
    "len(word_to_index)"
   ]
  },
  {
   "cell_type": "code",
   "execution_count": 7,
   "id": "1d276e9c",
   "metadata": {},
   "outputs": [
    {
     "data": {
      "text/plain": [
       "{0: '<PAD>',\n",
       " 1: '<BOS>',\n",
       " 2: '<UNK>',\n",
       " 3: '<UNUSED>',\n",
       " 4: '.',\n",
       " 5: '영화',\n",
       " 6: '다',\n",
       " 7: '고',\n",
       " 8: '하',\n",
       " 9: '을',\n",
       " 10: '보',\n",
       " 11: '..',\n",
       " 12: '게',\n",
       " 13: ',',\n",
       " 14: '!',\n",
       " 15: '지',\n",
       " 16: '있',\n",
       " 17: '없',\n",
       " 18: '?',\n",
       " 19: '좋',\n",
       " 20: '나',\n",
       " 21: '었',\n",
       " 22: '만',\n",
       " 23: '는데',\n",
       " 24: '너무',\n",
       " 25: '봤',\n",
       " 26: '적',\n",
       " 27: '안',\n",
       " 28: '정말',\n",
       " 29: '로',\n",
       " 30: '음',\n",
       " 31: '것',\n",
       " 32: '아',\n",
       " 33: '네요',\n",
       " 34: '재밌',\n",
       " 35: '어',\n",
       " 36: '같',\n",
       " 37: '점',\n",
       " 38: '지만',\n",
       " 39: '진짜',\n",
       " 40: '했',\n",
       " 41: '에서',\n",
       " 42: '기',\n",
       " 43: '네',\n",
       " 44: '않',\n",
       " 45: '거',\n",
       " 46: '았',\n",
       " 47: '수',\n",
       " 48: '되',\n",
       " 49: '면',\n",
       " 50: 'ㅋㅋ',\n",
       " 51: '말',\n",
       " 52: '연기',\n",
       " 53: '인',\n",
       " 54: '주',\n",
       " 55: '내',\n",
       " 56: '최고',\n",
       " 57: '~',\n",
       " 58: '평점',\n",
       " 59: '이런',\n",
       " 60: '던',\n",
       " 61: '어요',\n",
       " 62: '할',\n",
       " 63: '왜',\n",
       " 64: '겠',\n",
       " 65: '1',\n",
       " 66: '스토리',\n",
       " 67: '해',\n",
       " 68: '습니다',\n",
       " 69: 'ㅋㅋㅋ',\n",
       " 70: '...',\n",
       " 71: '드라마',\n",
       " 72: '생각',\n",
       " 73: '아니',\n",
       " 74: '더',\n",
       " 75: '그',\n",
       " 76: '싶',\n",
       " 77: '사람',\n",
       " 78: '듯',\n",
       " 79: '때',\n",
       " 80: '감동',\n",
       " 81: '함',\n",
       " 82: '배우',\n",
       " 83: '본',\n",
       " 84: '까지',\n",
       " 85: '뭐',\n",
       " 86: '알',\n",
       " 87: '만들',\n",
       " 88: '내용',\n",
       " 89: '볼',\n",
       " 90: '감독',\n",
       " 91: '보다',\n",
       " 92: '라',\n",
       " 93: '그냥',\n",
       " 94: '재미',\n",
       " 95: '시간',\n",
       " 96: '지루',\n",
       " 97: '중',\n",
       " 98: '재미있',\n",
       " 99: '년',\n",
       " 100: '10',\n",
       " 101: '였',\n",
       " 102: '잼',\n",
       " 103: '사랑',\n",
       " 104: '못',\n",
       " 105: '냐',\n",
       " 106: '재미없',\n",
       " 107: '쓰레기',\n",
       " 108: '서',\n",
       " 109: '2',\n",
       " 110: '라고',\n",
       " 111: '야',\n",
       " 112: '니',\n",
       " 113: '면서',\n",
       " 114: '번',\n",
       " 115: '다시',\n",
       " 116: '나오',\n",
       " 117: '작품',\n",
       " 118: '이거',\n",
       " 119: '하나',\n",
       " 120: '줄',\n",
       " 121: '해서',\n",
       " 122: '개',\n",
       " 123: '남',\n",
       " 124: '정도',\n",
       " 125: '마지막',\n",
       " 126: '끝',\n",
       " 127: '이건',\n",
       " 128: '액션',\n",
       " 129: '임',\n",
       " 130: 'ㅋ',\n",
       " 131: '3',\n",
       " 132: '기대',\n",
       " 133: '입니다',\n",
       " 134: '건',\n",
       " 135: '라는',\n",
       " 136: '분',\n",
       " 137: '완전',\n",
       " 138: '다는',\n",
       " 139: '참',\n",
       " 140: '많',\n",
       " 141: '처음',\n",
       " 142: '장면',\n",
       " 143: '대',\n",
       " 144: '아깝',\n",
       " 145: '다가',\n",
       " 146: '으면',\n",
       " 147: '지금',\n",
       " 148: '모르',\n",
       " 149: '이렇게',\n",
       " 150: \"'\",\n",
       " 151: '편',\n",
       " 152: '일',\n",
       " 153: '돈',\n",
       " 154: '이게',\n",
       " 155: '성',\n",
       " 156: '느낌',\n",
       " 157: '시',\n",
       " 158: '이야기',\n",
       " 159: '최악',\n",
       " 160: '된',\n",
       " 161: '봐도',\n",
       " 162: '님',\n",
       " 163: '어서',\n",
       " 164: '애',\n",
       " 165: '전',\n",
       " 166: '넘',\n",
       " 167: 'ㅠㅠ',\n",
       " 168: '인데',\n",
       " 169: '다고',\n",
       " 170: '이해',\n",
       " 171: '별로',\n",
       " 172: '그리고',\n",
       " 173: '명작',\n",
       " 174: '여자',\n",
       " 175: '^^',\n",
       " 176: '역시',\n",
       " 177: '난',\n",
       " 178: '이상',\n",
       " 179: '또',\n",
       " 180: '걸',\n",
       " 181: '한국',\n",
       " 182: '는지',\n",
       " 183: '많이',\n",
       " 184: '에게',\n",
       " 185: '부터',\n",
       " 186: '만든',\n",
       " 187: '주인공',\n",
       " 188: '받',\n",
       " 189: '합니다',\n",
       " 190: '우리',\n",
       " 191: '두',\n",
       " 192: '살',\n",
       " 193: '!!',\n",
       " 194: '길',\n",
       " 195: '엔',\n",
       " 196: '괜찮',\n",
       " 197: '기억',\n",
       " 198: '연출',\n",
       " 199: '한다',\n",
       " 200: '때문',\n",
       " 201: '이나',\n",
       " 202: 'ㅎㅎ',\n",
       " 203: '요',\n",
       " 204: '저',\n",
       " 205: '재',\n",
       " 206: '꼭',\n",
       " 207: '랑',\n",
       " 208: '며',\n",
       " 209: '현실',\n",
       " 210: '긴',\n",
       " 211: 'ㅡㅡ',\n",
       " 212: '무슨',\n",
       " 213: '내내',\n",
       " 214: '결말',\n",
       " 215: '죽',\n",
       " 216: '남자',\n",
       " 217: '세요',\n",
       " 218: '전개',\n",
       " 219: '마음',\n",
       " 220: '소재',\n",
       " 221: '속',\n",
       " 222: '공포',\n",
       " 223: '아서',\n",
       " 224: '다른',\n",
       " 225: '씨',\n",
       " 226: '인생',\n",
       " 227: '~~',\n",
       " 228: '짜증',\n",
       " 229: '짱',\n",
       " 230: '뿐',\n",
       " 231: '은데',\n",
       " 232: '별',\n",
       " 233: '아요',\n",
       " 234: '유치',\n",
       " 235: '가장',\n",
       " 236: '필요',\n",
       " 237: '음악',\n",
       " 238: ')',\n",
       " 239: '일본',\n",
       " 240: '낮',\n",
       " 241: '아이',\n",
       " 242: ';;',\n",
       " 243: '오',\n",
       " 244: '반전',\n",
       " 245: '수준',\n",
       " 246: '다니',\n",
       " 247: '웃',\n",
       " 248: '매력',\n",
       " 249: '맞',\n",
       " 250: '인지',\n",
       " 251: '가슴',\n",
       " 252: '없이',\n",
       " 253: '원작',\n",
       " 254: 'ㄷ',\n",
       " 255: '인간',\n",
       " 256: '데',\n",
       " 257: '굿',\n",
       " 258: 'ㅠ',\n",
       " 259: '높',\n",
       " 260: '밋',\n",
       " 261: '(',\n",
       " 262: '만드',\n",
       " 263: '급',\n",
       " 264: '눈물',\n",
       " 265: '보여',\n",
       " 266: '준',\n",
       " 267: '찍',\n",
       " 268: '인가',\n",
       " 269: '노',\n",
       " 270: '을까',\n",
       " 271: '용',\n",
       " 272: '코미디',\n",
       " 273: '마',\n",
       " 274: '화',\n",
       " 275: '신',\n",
       " 276: '모든',\n",
       " 277: '쓰',\n",
       " 278: '여',\n",
       " 279: '5',\n",
       " 280: '아직',\n",
       " 281: '추천',\n",
       " 282: '처럼',\n",
       " 283: '눈',\n",
       " 284: '아닌',\n",
       " 285: '자체',\n",
       " 286: '울',\n",
       " 287: '몰입',\n",
       " 288: '4',\n",
       " 289: '대박',\n",
       " 290: '몇',\n",
       " 291: '스럽',\n",
       " 292: '실망',\n",
       " 293: '는다',\n",
       " 294: '대한',\n",
       " 295: '죠',\n",
       " 296: '란',\n",
       " 297: '그런',\n",
       " 298: '솔직히',\n",
       " 299: '캐릭터',\n",
       " 300: 'ㅎ',\n",
       " 301: '모두',\n",
       " 302: '아주',\n",
       " 303: '-',\n",
       " 304: '가족',\n",
       " 305: '여운',\n",
       " 306: '건지',\n",
       " 307: '전혀',\n",
       " 308: '연기력',\n",
       " 309: '나라',\n",
       " 310: '후',\n",
       " 311: '될',\n",
       " 312: '다면',\n",
       " 313: '뭔가',\n",
       " 314: '그래도',\n",
       " 315: ';',\n",
       " 316: '시리즈',\n",
       " 317: '근데',\n",
       " 318: '작',\n",
       " 319: '표현',\n",
       " 320: '모습',\n",
       " 321: '공감',\n",
       " 322: '계속',\n",
       " 323: '먹',\n",
       " 324: '\"\"',\n",
       " 325: '제목',\n",
       " 326: '7',\n",
       " 327: '이랑',\n",
       " 328: '극장',\n",
       " 329: '치',\n",
       " 330: '비',\n",
       " 331: '이걸',\n",
       " 332: '진',\n",
       " 333: '바',\n",
       " 334: '대사',\n",
       " 335: '부분',\n",
       " 336: '그렇',\n",
       " 337: '개봉',\n",
       " 338: '0',\n",
       " 339: 'OO',\n",
       " 340: '대단',\n",
       " 341: '어디',\n",
       " 342: '작가',\n",
       " 343: '된다',\n",
       " 344: '아쉽',\n",
       " 345: '기분',\n",
       " 346: '제',\n",
       " 347: '진심',\n",
       " 348: '타임',\n",
       " 349: '/',\n",
       " 350: '웃기',\n",
       " 351: '보이',\n",
       " 352: '놓',\n",
       " 353: '해도',\n",
       " 354: '이제',\n",
       " 355: '물',\n",
       " 356: '봐야',\n",
       " 357: '막장',\n",
       " 358: '삶',\n",
       " 359: '친구',\n",
       " 360: '잔잔',\n",
       " 361: '조금',\n",
       " 362: '씬',\n",
       " 363: '딱',\n",
       " 364: '영상',\n",
       " 365: '억지',\n",
       " 366: '찾',\n",
       " 367: '요즘',\n",
       " 368: '같이',\n",
       " 369: '중간',\n",
       " 370: '\"',\n",
       " 371: '구',\n",
       " 372: '라도',\n",
       " 373: '스릴러',\n",
       " 374: '가지',\n",
       " 375: '8',\n",
       " 376: '믿',\n",
       " 377: '싫',\n",
       " 378: '....',\n",
       " 379: '나왔',\n",
       " 380: '아까운',\n",
       " 381: '긴장감',\n",
       " 382: '점수',\n",
       " 383: '개인',\n",
       " 384: '제대로',\n",
       " 385: '부족',\n",
       " 386: '이유',\n",
       " 387: '노래',\n",
       " 388: '만큼',\n",
       " 389: '라면',\n",
       " 390: '시작',\n",
       " 391: '구나',\n",
       " 392: '잇',\n",
       " 393: '특히',\n",
       " 394: '한테',\n",
       " 395: '날',\n",
       " 396: '려고',\n",
       " 397: '제일',\n",
       " 398: '아름다운',\n",
       " 399: '시대',\n",
       " 400: 'ㅜㅜ',\n",
       " 401: '어떻게',\n",
       " 402: '엔딩',\n",
       " 403: '당시',\n",
       " 404: '하지만',\n",
       " 405: '나름',\n",
       " 406: '봐',\n",
       " 407: '무섭',\n",
       " 408: '나온',\n",
       " 409: '명',\n",
       " 410: '사',\n",
       " 411: '니까',\n",
       " 412: '오랜만',\n",
       " 413: '이것',\n",
       " 414: '해요',\n",
       " 415: '9',\n",
       " 416: '팬',\n",
       " 417: '차라리',\n",
       " 418: '절대',\n",
       " 419: '세상',\n",
       " 420: '세',\n",
       " 421: '못하',\n",
       " 422: '의미',\n",
       " 423: '던데',\n",
       " 424: '봄',\n",
       " 425: '욕',\n",
       " 426: '훌륭',\n",
       " 427: '너무나',\n",
       " 428: '강추',\n",
       " 429: '감',\n",
       " 430: '됨',\n",
       " 431: 'ㅡ',\n",
       " 432: '따뜻',\n",
       " 433: '빼',\n",
       " 434: '느끼',\n",
       " 435: '해야',\n",
       " 436: '드',\n",
       " 437: '도대체',\n",
       " 438: '어야',\n",
       " 439: '답답',\n",
       " 440: '마다',\n",
       " 441: '준다',\n",
       " 442: '글',\n",
       " 443: '전쟁',\n",
       " 444: '놈',\n",
       " 445: '설정',\n",
       " 446: '무엇',\n",
       " 447: '수작',\n",
       " 448: '만화',\n",
       " 449: '흥미',\n",
       " 450: '그저',\n",
       " 451: '감정',\n",
       " 452: '미국',\n",
       " 453: '신선',\n",
       " 454: '행복',\n",
       " 455: '뻔',\n",
       " 456: '형',\n",
       " 457: '앞',\n",
       " 458: '허접',\n",
       " 459: '어도',\n",
       " 460: '군',\n",
       " 461: '시절',\n",
       " 462: '관객',\n",
       " 463: '배경',\n",
       " 464: '6',\n",
       " 465: '초반',\n",
       " 466: '사실',\n",
       " 467: '웃음',\n",
       " 468: '답',\n",
       " 469: '엄청',\n",
       " 470: '더라',\n",
       " 471: '라니',\n",
       " 472: '질',\n",
       " 473: '자신',\n",
       " 474: '추억',\n",
       " 475: '캐스팅',\n",
       " 476: '첨',\n",
       " 477: '멋있',\n",
       " 478: '류',\n",
       " 479: '어색',\n",
       " 480: '시나리오',\n",
       " 481: '머',\n",
       " 482: '밖에',\n",
       " 483: 'OOO',\n",
       " 484: '슬프',\n",
       " 485: '정신',\n",
       " 486: '분위기',\n",
       " 487: '소름',\n",
       " 488: '멋진',\n",
       " 489: '힘들',\n",
       " 490: '오늘',\n",
       " 491: '어이없',\n",
       " 492: '봐서',\n",
       " 493: '잡',\n",
       " 494: '구성',\n",
       " 495: '엄마',\n",
       " 496: '함께',\n",
       " 497: '문제',\n",
       " 498: '위해',\n",
       " 499: '졸작',\n",
       " 500: '잊',\n",
       " 501: '이딴',\n",
       " 502: '등',\n",
       " 503: '집',\n",
       " 504: '유쾌',\n",
       " 505: '뻔한',\n",
       " 506: '킬링',\n",
       " 507: '스러운',\n",
       " 508: '결국',\n",
       " 509: '낫',\n",
       " 510: '한데',\n",
       " 511: '나요',\n",
       " 512: '뭘',\n",
       " 513: '소리',\n",
       " 514: '간',\n",
       " 515: '20',\n",
       " 516: '역사',\n",
       " 517: '뭔',\n",
       " 518: '제발',\n",
       " 519: '포스터',\n",
       " 520: '아무리',\n",
       " 521: '코믹',\n",
       " 522: '어떤',\n",
       " 523: '완벽',\n",
       " 524: '~~~',\n",
       " 525: '맘',\n",
       " 526: '얼마나',\n",
       " 527: '애니메이션',\n",
       " 528: '!!!',\n",
       " 529: '러',\n",
       " 530: '주연',\n",
       " 531: '원',\n",
       " 532: '난다',\n",
       " 533: '버리',\n",
       " 534: '어릴',\n",
       " 535: '♥',\n",
       " 536: '후회',\n",
       " 537: '진부',\n",
       " 538: '나올',\n",
       " 539: '됐',\n",
       " 540: '보단',\n",
       " 541: '책',\n",
       " 542: '장난',\n",
       " 543: '더니',\n",
       " 544: '영화관',\n",
       " 545: '큰',\n",
       " 546: '개연',\n",
       " 547: '둘',\n",
       " 548: '출연',\n",
       " 549: '보고',\n",
       " 550: '극',\n",
       " 551: 'ㅅ',\n",
       " 552: '밖',\n",
       " 553: '충격',\n",
       " 554: '여기',\n",
       " 555: '엇',\n",
       " 556: '잔인',\n",
       " 557: '아름답',\n",
       " 558: '얘기',\n",
       " 559: '줬',\n",
       " 560: '평가',\n",
       " 561: '꺼',\n",
       " 562: '예술',\n",
       " 563: '갈수록',\n",
       " 564: '매우',\n",
       " 565: '든',\n",
       " 566: '자기',\n",
       " 567: '위한',\n",
       " 568: '이리',\n",
       " 569: '봐라',\n",
       " 570: '이후',\n",
       " 571: '읽',\n",
       " 572: '반',\n",
       " 573: '얼굴',\n",
       " 574: '꽤',\n",
       " 575: '티비',\n",
       " 576: '이쁘',\n",
       " 577: '으나',\n",
       " 578: '별점',\n",
       " 579: '깊',\n",
       " 580: '옛날',\n",
       " 581: '불쌍',\n",
       " 582: '못한',\n",
       " 583: '겟',\n",
       " 584: '불',\n",
       " 585: '시청',\n",
       " 586: '순수',\n",
       " 587: '라서',\n",
       " 588: '낭비',\n",
       " 589: '언제',\n",
       " 590: '건가',\n",
       " 591: '비디오',\n",
       " 592: '애니',\n",
       " 593: '머리',\n",
       " 594: '장르',\n",
       " 595: '생각나',\n",
       " 596: '텐데',\n",
       " 597: '+',\n",
       " 598: '미',\n",
       " 599: '배',\n",
       " 600: '그래서',\n",
       " 601: ':',\n",
       " 602: '다운',\n",
       " 603: '주제',\n",
       " 604: '다큐',\n",
       " 605: '다음',\n",
       " 606: '궁금',\n",
       " 607: '아님',\n",
       " 608: '시키',\n",
       " 609: '누구',\n",
       " 610: '예전',\n",
       " 611: '그렇게',\n",
       " 612: '크',\n",
       " 613: '동안',\n",
       " 614: '뒤',\n",
       " 615: '그만',\n",
       " 616: '인상',\n",
       " 617: '상황',\n",
       " 618: '??',\n",
       " 619: '이름',\n",
       " 620: '미친',\n",
       " 621: '스릴',\n",
       " 622: '감사',\n",
       " 623: '시즌',\n",
       " 624: '아무',\n",
       " 625: '너',\n",
       " 626: '오래',\n",
       " 627: 'B',\n",
       " 628: '집중',\n",
       " 629: '힘',\n",
       " 630: '어느',\n",
       " 631: '본다',\n",
       " 632: '그러',\n",
       " 633: '로맨스',\n",
       " 634: '약간',\n",
       " 635: '나와서',\n",
       " 636: '진정',\n",
       " 637: '식',\n",
       " 638: '방송',\n",
       " 639: '그나마',\n",
       " 640: '까',\n",
       " 641: '짜리',\n",
       " 642: '마세요',\n",
       " 643: '소설',\n",
       " 644: '여주인공',\n",
       " 645: '몰',\n",
       " 646: '걸작',\n",
       " 647: '존나',\n",
       " 648: '그대로',\n",
       " 649: '죽이',\n",
       " 650: '인물',\n",
       " 651: '났',\n",
       " 652: '그것',\n",
       " 653: '회',\n",
       " 654: '떨어지',\n",
       " 655: '평',\n",
       " 656: '케',\n",
       " 657: '왔',\n",
       " 658: '에요',\n",
       " 659: '실화',\n",
       " 660: '꿈',\n",
       " 661: '대체',\n",
       " 662: '해라',\n",
       " 663: '훨씬',\n",
       " 664: '짓',\n",
       " 665: '무',\n",
       " 666: '사회',\n",
       " 667: '만점',\n",
       " 668: '발연기',\n",
       " 669: '구만',\n",
       " 670: '~!',\n",
       " 671: '전체',\n",
       " 672: 'ㅜ',\n",
       " 673: '비슷',\n",
       " 674: '누가',\n",
       " 675: '막',\n",
       " 676: '30',\n",
       " 677: '햇',\n",
       " 678: '끝나',\n",
       " 679: 'CG',\n",
       " 680: '엉성',\n",
       " 681: '귀엽',\n",
       " 682: '여주',\n",
       " 683: '단',\n",
       " 684: '영상미',\n",
       " 685: '중국',\n",
       " 686: '비교',\n",
       " 687: '초딩',\n",
       " 688: '감성',\n",
       " 689: '네이버',\n",
       " 690: '세계',\n",
       " 691: '여배우',\n",
       " 692: '는가',\n",
       " 693: 'ㅎㅎㅎ',\n",
       " 694: '순간',\n",
       " 695: '망',\n",
       " 696: '느껴',\n",
       " 697: '려는',\n",
       " 698: '나이',\n",
       " 699: ';;;',\n",
       " 700: '대해',\n",
       " 701: '상',\n",
       " 702: '첫',\n",
       " 703: '어렸',\n",
       " 704: '쯤',\n",
       " 705: '판',\n",
       " 706: '입',\n",
       " 707: '꿀',\n",
       " 708: '갔',\n",
       " 709: '어설픈',\n",
       " 710: '돋',\n",
       " 711: '셨',\n",
       " 712: '학교',\n",
       " 713: '더럽',\n",
       " 714: '타',\n",
       " 715: '생',\n",
       " 716: '100',\n",
       " 717: '혼자',\n",
       " 718: '아들',\n",
       " 719: '느낄',\n",
       " 720: '성룡',\n",
       " 721: '아야',\n",
       " 722: '가능',\n",
       " 723: '졸',\n",
       " 724: '어린',\n",
       " 725: '교훈',\n",
       " 726: '멋지',\n",
       " 727: '바로',\n",
       " 728: '나가',\n",
       " 729: '잘못',\n",
       " 730: '맛',\n",
       " 731: '.....',\n",
       " 732: '한마디',\n",
       " 733: '존',\n",
       " 734: '딸',\n",
       " 735: '당신',\n",
       " 736: '화려',\n",
       " 737: '길래',\n",
       " 738: '끌',\n",
       " 739: '티',\n",
       " 740: '판타지',\n",
       " 741: '삼류',\n",
       " 742: '잠',\n",
       " 743: '땜',\n",
       " 744: '든다',\n",
       " 745: '달',\n",
       " 746: '빨리',\n",
       " 747: '맨',\n",
       " 748: '목소리',\n",
       " 749: '똥',\n",
       " 750: '아까움',\n",
       " 751: '영',\n",
       " 752: '당',\n",
       " 753: '거의',\n",
       " 754: '듣',\n",
       " 755: '봤었',\n",
       " 756: '나온다',\n",
       " 757: '전부',\n",
       " 758: '차',\n",
       " 759: '독특',\n",
       " 760: '건데',\n",
       " 761: '다르',\n",
       " 762: '초',\n",
       " 763: 'ㅉㅉ',\n",
       " 764: '어른',\n",
       " 765: '가치',\n",
       " 766: '위',\n",
       " 767: '률',\n",
       " 768: '상당히',\n",
       " 769: '씩',\n",
       " 770: '90',\n",
       " 771: '다만',\n",
       " 772: '질질',\n",
       " 773: '아버지',\n",
       " 774: '넣',\n",
       " 775: '평론가',\n",
       " 776: '줄거리',\n",
       " 777: '한번',\n",
       " 778: '이번',\n",
       " 779: '갑자기',\n",
       " 780: '스타일',\n",
       " 781: '이러',\n",
       " 782: '그러나',\n",
       " 783: '여러',\n",
       " 784: '군요',\n",
       " 785: 'ㅂ',\n",
       " 786: '의도',\n",
       " 787: '저런',\n",
       " 788: '존재',\n",
       " 789: '허무',\n",
       " 790: '밑',\n",
       " 791: '%',\n",
       " 792: '부',\n",
       " 793: '대로',\n",
       " 794: '에선',\n",
       " 795: '째',\n",
       " 796: '각본',\n",
       " 797: '예상',\n",
       " 798: '성우',\n",
       " 799: '으면서',\n",
       " 800: '그녀',\n",
       " 801: '버린',\n",
       " 802: '화면',\n",
       " 803: '너무너무',\n",
       " 804: 'ㄱ',\n",
       " 805: '떠나',\n",
       " 806: '예쁘',\n",
       " 807: '비해',\n",
       " 808: '자연',\n",
       " 809: '담',\n",
       " 810: '그런지',\n",
       " 811: '뻔하',\n",
       " 812: '평범',\n",
       " 813: '굉장히',\n",
       " 814: '만나',\n",
       " 815: '슬픈',\n",
       " 816: '돼',\n",
       " 817: '못했',\n",
       " 818: '지루함',\n",
       " 819: '복수',\n",
       " 820: '관람',\n",
       " 821: '스',\n",
       " 822: '단순',\n",
       " 823: '댓글',\n",
       " 824: '중요',\n",
       " 825: '낸',\n",
       " 826: '새로운',\n",
       " 827: '피',\n",
       " 828: '앗',\n",
       " 829: '극장판',\n",
       " 830: '줌',\n",
       " 831: '갖',\n",
       " 832: '굳',\n",
       " 833: '제작',\n",
       " 834: '버렸',\n",
       " 835: '일단',\n",
       " 836: '만족',\n",
       " 837: '쉽',\n",
       " 838: '선택',\n",
       " 839: '아빠',\n",
       " 840: '쓴',\n",
       " 841: 'TV',\n",
       " 842: '요소',\n",
       " 843: '한편',\n",
       " 844: '불편',\n",
       " 845: '항상',\n",
       " 846: '거기',\n",
       " 847: '연출력',\n",
       " 848: '그때',\n",
       " 849: '롭',\n",
       " 850: '에로',\n",
       " 851: '산',\n",
       " 852: '탄탄',\n",
       " 853: '잃',\n",
       " 854: '한다는',\n",
       " 855: '발',\n",
       " 856: '나옴',\n",
       " 857: '예요',\n",
       " 858: '한심',\n",
       " 859: '흥행',\n",
       " 860: '물론',\n",
       " 861: '려',\n",
       " 862: '지나',\n",
       " 863: '따라',\n",
       " 864: '진행',\n",
       " 865: '점점',\n",
       " 866: '관계',\n",
       " 867: '전형',\n",
       " 868: '역대',\n",
       " 869: '편집',\n",
       " 870: '조',\n",
       " 871: '거나',\n",
       " 872: '아까워',\n",
       " 873: '법',\n",
       " 874: '던가',\n",
       " 875: '총',\n",
       " 876: '짧',\n",
       " 877: '이하',\n",
       " 878: '충분히',\n",
       " 879: '따',\n",
       " 880: '안타깝',\n",
       " 881: '에겐',\n",
       " 882: '아닌가',\n",
       " 883: '식상',\n",
       " 884: '몰랐',\n",
       " 885: '자꾸',\n",
       " 886: '훈훈',\n",
       " 887: '80',\n",
       " 888: '미안',\n",
       " 889: '김',\n",
       " 890: '화이팅',\n",
       " 891: '도록',\n",
       " 892: '게임',\n",
       " 893: '-_-',\n",
       " 894: '멜',\n",
       " 895: '원래',\n",
       " 896: '곳',\n",
       " 897: '그게',\n",
       " 898: '자극',\n",
       " 899: '몸',\n",
       " 900: '삼',\n",
       " 901: '손',\n",
       " 902: '장',\n",
       " 903: '구요',\n",
       " 904: '~!!',\n",
       " 905: '어쩔',\n",
       " 906: '팔',\n",
       " 907: '똑같',\n",
       " 908: '간다',\n",
       " 909: '나쁜',\n",
       " 910: '뭔지',\n",
       " 911: '사건',\n",
       " 912: '풀',\n",
       " 913: '설명',\n",
       " 914: '어울리',\n",
       " 915: '짜',\n",
       " 916: '귀신',\n",
       " 917: '잖아',\n",
       " 918: '과거',\n",
       " 919: '빙',\n",
       " 920: '노력',\n",
       " 921: '짐',\n",
       " 922: '그래픽',\n",
       " 923: '도저히',\n",
       " 924: '황당',\n",
       " 925: '조차',\n",
       " 926: '닿',\n",
       " 927: '됬',\n",
       " 928: '아프',\n",
       " 929: '중반',\n",
       " 930: '개그',\n",
       " 931: '듬',\n",
       " 932: '프랑스',\n",
       " 933: '코메디',\n",
       " 934: '홍콩',\n",
       " 935: '취향',\n",
       " 936: '빠져',\n",
       " 937: '죽음',\n",
       " 938: '했었',\n",
       " 939: '미치',\n",
       " 940: '역',\n",
       " 941: '속편',\n",
       " 942: '무조건',\n",
       " 943: '소중',\n",
       " 944: '프로',\n",
       " 945: '빠',\n",
       " 946: '무비',\n",
       " 947: '참신',\n",
       " 948: '이란',\n",
       " 949: '쳐',\n",
       " 950: '나쁘',\n",
       " 951: '멋',\n",
       " 952: '좋아하',\n",
       " 953: '아쉬운',\n",
       " 954: '더욱',\n",
       " 955: '넘치',\n",
       " 956: '병맛',\n",
       " 957: '괜히',\n",
       " 958: '진지',\n",
       " 959: '빠지',\n",
       " 960: '척',\n",
       " 961: '특유',\n",
       " 962: '또한',\n",
       " 963: '상상',\n",
       " 964: '숨',\n",
       " 965: '상영',\n",
       " 966: '결혼',\n",
       " 967: '리',\n",
       " 968: '짱짱',\n",
       " 969: '유명',\n",
       " 970: 'ost',\n",
       " 971: '심리',\n",
       " 972: '전설',\n",
       " 973: '무서운',\n",
       " 974: '헐',\n",
       " 975: '엄청난',\n",
       " 976: '오히려',\n",
       " 977: '인듯',\n",
       " 978: '비추',\n",
       " 979: '예고편',\n",
       " 980: '후반부',\n",
       " 981: '틀',\n",
       " 982: '더빙',\n",
       " 983: '아저씨',\n",
       " 984: '으니',\n",
       " 985: '고자',\n",
       " 986: '심하',\n",
       " 987: '바보',\n",
       " 988: '왕',\n",
       " 989: '연기자',\n",
       " 990: '촬영',\n",
       " 991: '그리',\n",
       " 992: '소녀',\n",
       " 993: '느꼈',\n",
       " 994: '끝내',\n",
       " 995: '로맨틱',\n",
       " 996: '조연',\n",
       " 997: '천재',\n",
       " 998: '아도',\n",
       " 999: '쩔',\n",
       " ...}"
      ]
     },
     "execution_count": 7,
     "metadata": {},
     "output_type": "execute_result"
    }
   ],
   "source": [
    "index_to_word = {index:word for word, index in word_to_index.items()}\n",
    "index_to_word"
   ]
  },
  {
   "cell_type": "code",
   "execution_count": 8,
   "id": "2a11594d",
   "metadata": {},
   "outputs": [],
   "source": [
    "# 문장 1개를 활용할 딕셔너리와 함께 주면, 단어 인덱스 리스트 벡터로 변환해 주는 함수입니다. \n",
    "# 단, 모든 문장은 <BOS>로 시작하는 것으로 합니다. \n",
    "def get_encoded_sentence(sentence, word_to_index):\n",
    "    return [word_to_index['<BOS>']]+[word_to_index[word] if word in word_to_index else word_to_index['<UNK>'] for word in sentence.split()]\n",
    "\n",
    "# 여러 개의 문장 리스트를 한꺼번에 단어 인덱스 리스트 벡터로 encode해 주는 함수입니다. \n",
    "def get_encoded_sentences(sentences, word_to_index):\n",
    "    return [get_encoded_sentence(sentence, word_to_index) for sentence in sentences]\n",
    "\n",
    "# 숫자 벡터로 encode된 문장을 원래대로 decode하는 함수입니다. \n",
    "def get_decoded_sentence(encoded_sentence, index_to_word):\n",
    "    return ' '.join(index_to_word[index] if index in index_to_word else '<UNK>' for index in encoded_sentence[1:])  #[1:]를 통해 <BOS>를 제외\n",
    "\n",
    "# 여러 개의 숫자 벡터로 encode된 문장을 한꺼번에 원래대로 decode하는 함수입니다. \n",
    "def get_decoded_sentences(encoded_sentences, index_to_word):\n",
    "    return [get_decoded_sentence(encoded_sentence, index_to_word) for encoded_sentence in encoded_sentences]"
   ]
  },
  {
   "cell_type": "markdown",
   "id": "38669aaf",
   "metadata": {},
   "source": [
    "## 3) 모델 구성을 위한 데이터 분석 및 가공\n",
    "---\n",
    "- 데이터셋 내 문장 길이 분포\n",
    "- 적절한 최대 문장 길이 지정\n",
    "- keras.preprocessing.sequence.pad_sequences 을 활용한 패딩 추가"
   ]
  },
  {
   "cell_type": "markdown",
   "id": "c2ce2dc0",
   "metadata": {},
   "source": [
    "### 데이터셋 내 문장 길이 분포\n",
    "---"
   ]
  },
  {
   "cell_type": "code",
   "execution_count": 9,
   "id": "341e1122",
   "metadata": {},
   "outputs": [
    {
     "name": "stdout",
     "output_type": "stream",
     "text": [
      "문장길이 평균 :  15.96940191154864\n",
      "문장길이 최대 :  116\n",
      "문장길이 표준편차 :  12.843571191092\n"
     ]
    }
   ],
   "source": [
    "total_data_text = list(X_train) + list(X_test)\n",
    "\n",
    "# 텍스트데이터 문장길이의 리스트를 생성한 후\n",
    "num_tokens = [len(tokens) for tokens in total_data_text]\n",
    "num_tokens = np.array(num_tokens)\n",
    "\n",
    "# 문장길이의 평균값, 최대값, 표준편차를 계산해 본다. \n",
    "print('문장길이 평균 : ', np.mean(num_tokens))\n",
    "print('문장길이 최대 : ', np.max(num_tokens))\n",
    "print('문장길이 표준편차 : ', np.std(num_tokens))"
   ]
  },
  {
   "cell_type": "code",
   "execution_count": 10,
   "id": "ace68c7c",
   "metadata": {},
   "outputs": [
    {
     "data": {
      "image/png": "[encoded data removed]",
      "text/plain": [
       "<Figure size 432x288 with 1 Axes>"
      ]
     },
     "metadata": {
      "needs_background": "light"
     },
     "output_type": "display_data"
    }
   ],
   "source": [
    "import matplotlib.pyplot as plt\n",
    "\n",
    "plt.hist([len(tokens) for tokens in total_data_text], bins=50)\n",
    "plt.xlabel('length of samples')\n",
    "plt.ylabel('number of samples')\n",
    "plt.show()"
   ]
  },
  {
   "cell_type": "markdown",
   "id": "e98a6393",
   "metadata": {},
   "source": [
    "### 적절한 최대 문장 길이 지정\n",
    "---"
   ]
  },
  {
   "cell_type": "code",
   "execution_count": 11,
   "id": "09387e57",
   "metadata": {},
   "outputs": [
    {
     "name": "stdout",
     "output_type": "stream",
     "text": [
      "pad_sequences maxlen :  54\n",
      "전체 문장의 0.9720946661956905%가 maxlen 설정값 이내에 포함됩니다. \n"
     ]
    }
   ],
   "source": [
    "max_tokens = np.mean(num_tokens) + 3 * np.std(num_tokens)\n",
    "maxlen = int(max_tokens)\n",
    "print('pad_sequences maxlen : ', maxlen)\n",
    "print(f'전체 문장의 {np.sum(num_tokens < max_tokens) / len(num_tokens)}%가 maxlen 설정값 이내에 포함됩니다. ')"
   ]
  },
  {
   "cell_type": "markdown",
   "id": "8dfdf97f",
   "metadata": {},
   "source": [
    "### keras.preprocessing.sequence.pad_sequences 을 활용한 패딩 추가\n",
    "---"
   ]
  },
  {
   "cell_type": "code",
   "execution_count": 12,
   "id": "089d77c6",
   "metadata": {},
   "outputs": [
    {
     "name": "stdout",
     "output_type": "stream",
     "text": [
      "(146182, 54)\n"
     ]
    }
   ],
   "source": [
    "import tensorflow as tf\n",
    "\n",
    "# padding = 'pre'(앞쪽)\n",
    "X_train_pre = tf.keras.preprocessing.sequence.pad_sequences(X_train,\n",
    "                                                        value=word_to_index[\"<PAD>\"],\n",
    "                                                        padding='pre',\n",
    "                                                        maxlen=maxlen)\n",
    "\n",
    "X_test_pre = tf.keras.preprocessing.sequence.pad_sequences(X_test,\n",
    "                                                       value=word_to_index[\"<PAD>\"],\n",
    "                                                       padding='pre',\n",
    "                                                       maxlen=maxlen)\n",
    "\n",
    "print(X_train_pre.shape)"
   ]
  },
  {
   "cell_type": "markdown",
   "id": "d518b18f",
   "metadata": {},
   "source": [
    "## 4) 모델 구성 및 validation set 구성\n",
    "---"
   ]
  },
  {
   "cell_type": "markdown",
   "id": "454955ad",
   "metadata": {},
   "source": [
    "### validation set 구성"
   ]
  },
  {
   "cell_type": "code",
   "execution_count": 13,
   "id": "cf20e5c8",
   "metadata": {},
   "outputs": [
    {
     "name": "stdout",
     "output_type": "stream",
     "text": [
      "(136182, 54)\n",
      "(136182,)\n"
     ]
    }
   ],
   "source": [
    "# validation set 10000건 분리\n",
    "x_val = X_train_pre[:10000]   \n",
    "y_val = y_train[:10000]\n",
    "\n",
    "# validation set을 제외한 나머지 15000건\n",
    "partial_x_train = X_train_pre[10000:]  \n",
    "partial_y_train = y_train[10000:]\n",
    "\n",
    "print(partial_x_train.shape)\n",
    "print(partial_y_train.shape)"
   ]
  },
  {
   "cell_type": "markdown",
   "id": "4ad9af0a",
   "metadata": {},
   "source": [
    "### RNN 모델 구성"
   ]
  },
  {
   "cell_type": "code",
   "execution_count": 14,
   "id": "1cae9c05",
   "metadata": {
    "scrolled": false
   },
   "outputs": [
    {
     "name": "stdout",
     "output_type": "stream",
     "text": [
      "Model: \"sequential\"\n",
      "_________________________________________________________________\n",
      "Layer (type)                 Output Shape              Param #   \n",
      "=================================================================\n",
      "embedding (Embedding)        (None, None, 100)         1000000   \n",
      "_________________________________________________________________\n",
      "lstm (LSTM)                  (None, 100)               80400     \n",
      "_________________________________________________________________\n",
      "dropout (Dropout)            (None, 100)               0         \n",
      "_________________________________________________________________\n",
      "dense (Dense)                (None, 64)                6464      \n",
      "_________________________________________________________________\n",
      "dropout_1 (Dropout)          (None, 64)                0         \n",
      "_________________________________________________________________\n",
      "dense_1 (Dense)              (None, 1)                 65        \n",
      "=================================================================\n",
      "Total params: 1,086,929\n",
      "Trainable params: 1,086,929\n",
      "Non-trainable params: 0\n",
      "_________________________________________________________________\n"
     ]
    }
   ],
   "source": [
    "vocab_size = len(word_to_index)  \n",
    "word_vector_dim = 100\n",
    "\n",
    "rnn_model = tf.keras.Sequential()\n",
    "rnn_model.add(tf.keras.layers.Embedding(vocab_size, word_vector_dim, input_shape=(None,)))\n",
    "rnn_model.add(tf.keras.layers.LSTM(100))  \n",
    "rnn_model.add(tf.keras.layers.Dropout(0.8))  # Dropout 추가\n",
    "rnn_model.add(tf.keras.layers.Dense(64, activation='relu'))\n",
    "rnn_model.add(tf.keras.layers.Dropout(0.8))  # Dropout 추가\n",
    "rnn_model.add(tf.keras.layers.Dense(1, activation='sigmoid'))  # 최종 출력은 긍정/부정을 나타내는 1dim 입니다.\n",
    "\n",
    "rnn_model.summary()"
   ]
  },
  {
   "cell_type": "markdown",
   "id": "ddcc2567",
   "metadata": {},
   "source": [
    "### CNN 모델 구성"
   ]
  },
  {
   "cell_type": "code",
   "execution_count": 15,
   "id": "e1cd6394",
   "metadata": {},
   "outputs": [
    {
     "name": "stdout",
     "output_type": "stream",
     "text": [
      "Model: \"sequential_1\"\n",
      "_________________________________________________________________\n",
      "Layer (type)                 Output Shape              Param #   \n",
      "=================================================================\n",
      "embedding_1 (Embedding)      (None, None, 100)         1000000   \n",
      "_________________________________________________________________\n",
      "conv1d (Conv1D)              (None, None, 64)          32064     \n",
      "_________________________________________________________________\n",
      "global_max_pooling1d (Global (None, 64)                0         \n",
      "_________________________________________________________________\n",
      "dense_2 (Dense)              (None, 32)                2080      \n",
      "_________________________________________________________________\n",
      "dropout_2 (Dropout)          (None, 32)                0         \n",
      "_________________________________________________________________\n",
      "dense_3 (Dense)              (None, 1)                 33        \n",
      "=================================================================\n",
      "Total params: 1,034,177\n",
      "Trainable params: 1,034,177\n",
      "Non-trainable params: 0\n",
      "_________________________________________________________________\n"
     ]
    }
   ],
   "source": [
    "vocab_size = len(word_to_index)  \n",
    "word_vector_dim = 100\n",
    "\n",
    "cnn_model = tf.keras.Sequential()\n",
    "cnn_model.add(tf.keras.layers.Embedding(vocab_size, word_vector_dim, input_shape=(None,)))\n",
    "cnn_model.add(tf.keras.layers.Conv1D(64, 5, activation='relu'))\n",
    "cnn_model.add(tf.keras.layers.GlobalMaxPooling1D())\n",
    "cnn_model.add(tf.keras.layers.Dense(32, activation='relu'))\n",
    "cnn_model.add(tf.keras.layers.Dropout(0.7))  # 드롭아웃 적용\n",
    "cnn_model.add(tf.keras.layers.Dense(1, activation='sigmoid'))  # 최종 출력은 긍정/부정을 나타내는 1dim 입니다.\n",
    "\n",
    "cnn_model.summary()"
   ]
  },
  {
   "cell_type": "markdown",
   "id": "aebac18d",
   "metadata": {},
   "source": [
    "### GlobalMaxPooling 만 있는 모델"
   ]
  },
  {
   "cell_type": "code",
   "execution_count": 16,
   "id": "e493b591",
   "metadata": {},
   "outputs": [
    {
     "name": "stdout",
     "output_type": "stream",
     "text": [
      "Model: \"sequential_2\"\n",
      "_________________________________________________________________\n",
      "Layer (type)                 Output Shape              Param #   \n",
      "=================================================================\n",
      "embedding_2 (Embedding)      (None, None, 100)         1000000   \n",
      "_________________________________________________________________\n",
      "global_max_pooling1d_1 (Glob (None, 100)               0         \n",
      "_________________________________________________________________\n",
      "dropout_3 (Dropout)          (None, 100)               0         \n",
      "_________________________________________________________________\n",
      "dense_4 (Dense)              (None, 64)                6464      \n",
      "_________________________________________________________________\n",
      "dense_5 (Dense)              (None, 1)                 65        \n",
      "=================================================================\n",
      "Total params: 1,006,529\n",
      "Trainable params: 1,006,529\n",
      "Non-trainable params: 0\n",
      "_________________________________________________________________\n"
     ]
    }
   ],
   "source": [
    "vocab_size = len(word_to_index)  \n",
    "word_vector_dim = 100\n",
    "\n",
    "gmp_model = tf.keras.Sequential()\n",
    "gmp_model.add(tf.keras.layers.Embedding(vocab_size, word_vector_dim, input_shape=(None,)))\n",
    "gmp_model.add(tf.keras.layers.GlobalMaxPooling1D())\n",
    "gmp_model.add(tf.keras.layers.Dropout(0.7))  # 드롭아웃 레이어 추가\n",
    "gmp_model.add(tf.keras.layers.Dense(64, activation='relu'))\n",
    "gmp_model.add(tf.keras.layers.Dense(1, activation='sigmoid'))  # 최종 출력은 긍정/부정을 나타내는 1dim 입니다.\n",
    "\n",
    "gmp_model.summary()"
   ]
  },
  {
   "cell_type": "markdown",
   "id": "1ff9d018",
   "metadata": {},
   "source": [
    "## 5) 모델 훈련 개시"
   ]
  },
  {
   "cell_type": "markdown",
   "id": "4e6cdac0",
   "metadata": {},
   "source": [
    "### RNN"
   ]
  },
  {
   "cell_type": "code",
   "execution_count": 17,
   "id": "76ffdab4",
   "metadata": {
    "scrolled": true
   },
   "outputs": [
    {
     "name": "stdout",
     "output_type": "stream",
     "text": [
      "Epoch 1/30\n",
      "266/266 [==============================] - 7s 13ms/step - loss: 0.4659 - accuracy: 0.7829 - val_loss: 0.3414 - val_accuracy: 0.8544\n",
      "Epoch 2/30\n",
      "266/266 [==============================] - 3s 11ms/step - loss: 0.3507 - accuracy: 0.8588 - val_loss: 0.3336 - val_accuracy: 0.8533\n",
      "Epoch 3/30\n",
      "266/266 [==============================] - 3s 11ms/step - loss: 0.3195 - accuracy: 0.8729 - val_loss: 0.3277 - val_accuracy: 0.8578\n",
      "Epoch 4/30\n",
      "266/266 [==============================] - 3s 11ms/step - loss: 0.2917 - accuracy: 0.8856 - val_loss: 0.3356 - val_accuracy: 0.8604\n",
      "Epoch 5/30\n",
      "266/266 [==============================] - 3s 11ms/step - loss: 0.2695 - accuracy: 0.8950 - val_loss: 0.3410 - val_accuracy: 0.8549\n",
      "Epoch 6/30\n",
      "266/266 [==============================] - 3s 11ms/step - loss: 0.2478 - accuracy: 0.9039 - val_loss: 0.3719 - val_accuracy: 0.8567\n",
      "Epoch 7/30\n",
      "266/266 [==============================] - 3s 11ms/step - loss: 0.2320 - accuracy: 0.9098 - val_loss: 0.3953 - val_accuracy: 0.8538\n",
      "Epoch 8/30\n",
      "266/266 [==============================] - 3s 11ms/step - loss: 0.2147 - accuracy: 0.9179 - val_loss: 0.3987 - val_accuracy: 0.8530\n"
     ]
    }
   ],
   "source": [
    "optimizer = tf.keras.optimizers.Adam(learning_rate=0.001)\n",
    "rnn_model.compile(optimizer=optimizer,\n",
    "              loss='binary_crossentropy',\n",
    "              metrics=['accuracy'])\n",
    "              \n",
    "\n",
    "from keras.callbacks import EarlyStopping, LearningRateScheduler\n",
    "\n",
    "epochs = 30\n",
    "early_stop = EarlyStopping(monitor='val_loss', patience=5) \n",
    "\n",
    "rnn_history = rnn_model.fit(partial_x_train,\n",
    "                    partial_y_train,\n",
    "                    epochs=epochs,\n",
    "                    batch_size=512,\n",
    "                    validation_data=(x_val, y_val),\n",
    "                    callbacks=[early_stop],  \n",
    "                    verbose=1)"
   ]
  },
  {
   "cell_type": "code",
   "execution_count": 18,
   "id": "2da348bb",
   "metadata": {},
   "outputs": [
    {
     "name": "stdout",
     "output_type": "stream",
     "text": [
      "dict_keys(['loss', 'accuracy', 'val_loss', 'val_accuracy'])\n"
     ]
    }
   ],
   "source": [
    "rnn_history_dict = rnn_history.history\n",
    "print(rnn_history_dict.keys()) # epoch에 따른 그래프를 그려볼 수 있는 항목들"
   ]
  },
  {
   "cell_type": "markdown",
   "id": "b8def457",
   "metadata": {},
   "source": [
    "### CNN"
   ]
  },
  {
   "cell_type": "code",
   "execution_count": 19,
   "id": "a61de608",
   "metadata": {
    "scrolled": true
   },
   "outputs": [
    {
     "name": "stdout",
     "output_type": "stream",
     "text": [
      "Epoch 1/30\n",
      "266/266 [==============================] - 4s 8ms/step - loss: 0.4809 - accuracy: 0.7713 - val_loss: 0.3408 - val_accuracy: 0.8515\n",
      "Epoch 2/30\n",
      "266/266 [==============================] - 2s 6ms/step - loss: 0.3485 - accuracy: 0.8620 - val_loss: 0.3215 - val_accuracy: 0.8601\n",
      "Epoch 3/30\n",
      "266/266 [==============================] - 2s 6ms/step - loss: 0.3041 - accuracy: 0.8845 - val_loss: 0.3220 - val_accuracy: 0.8640\n",
      "Epoch 4/30\n",
      "266/266 [==============================] - 2s 6ms/step - loss: 0.2616 - accuracy: 0.9048 - val_loss: 0.3328 - val_accuracy: 0.8598\n",
      "Epoch 5/30\n",
      "266/266 [==============================] - 2s 6ms/step - loss: 0.2145 - accuracy: 0.9257 - val_loss: 0.3736 - val_accuracy: 0.8612\n",
      "Epoch 6/30\n",
      "266/266 [==============================] - 2s 6ms/step - loss: 0.1687 - accuracy: 0.9440 - val_loss: 0.4144 - val_accuracy: 0.8598\n",
      "Epoch 7/30\n",
      "266/266 [==============================] - 2s 6ms/step - loss: 0.1313 - accuracy: 0.9577 - val_loss: 0.4861 - val_accuracy: 0.8560\n"
     ]
    }
   ],
   "source": [
    "cnn_model.compile(optimizer='adam',\n",
    "              loss='binary_crossentropy',\n",
    "              metrics=['accuracy'])\n",
    "              \n",
    "\n",
    "from keras.callbacks import EarlyStopping\n",
    "\n",
    "epochs = 30\n",
    "early_stop = EarlyStopping(monitor='val_loss', patience=5) \n",
    "\n",
    "cnn_history = cnn_model.fit(partial_x_train,\n",
    "                    partial_y_train,\n",
    "                    epochs=epochs,\n",
    "                    batch_size=512,\n",
    "                    validation_data=(x_val, y_val),\n",
    "                    callbacks=[early_stop],  # EarlyStopping 콜백 적용\n",
    "                    verbose=1)"
   ]
  },
  {
   "cell_type": "markdown",
   "id": "2f579b41",
   "metadata": {},
   "source": [
    "### GMP"
   ]
  },
  {
   "cell_type": "code",
   "execution_count": 20,
   "id": "0f467007",
   "metadata": {
    "scrolled": true
   },
   "outputs": [
    {
     "name": "stdout",
     "output_type": "stream",
     "text": [
      "Epoch 1/30\n",
      "266/266 [==============================] - 2s 4ms/step - loss: 0.5400 - accuracy: 0.7222 - val_loss: 0.3721 - val_accuracy: 0.8384\n",
      "Epoch 2/30\n",
      "266/266 [==============================] - 1s 4ms/step - loss: 0.4115 - accuracy: 0.8158 - val_loss: 0.3485 - val_accuracy: 0.8464\n",
      "Epoch 3/30\n",
      "266/266 [==============================] - 1s 4ms/step - loss: 0.3776 - accuracy: 0.8346 - val_loss: 0.3424 - val_accuracy: 0.8488\n",
      "Epoch 4/30\n",
      "266/266 [==============================] - 1s 4ms/step - loss: 0.3571 - accuracy: 0.8460 - val_loss: 0.3438 - val_accuracy: 0.8502\n",
      "Epoch 5/30\n",
      "266/266 [==============================] - 1s 4ms/step - loss: 0.3456 - accuracy: 0.8511 - val_loss: 0.3441 - val_accuracy: 0.8506\n",
      "Epoch 6/30\n",
      "266/266 [==============================] - 1s 4ms/step - loss: 0.3332 - accuracy: 0.8568 - val_loss: 0.3431 - val_accuracy: 0.8516\n",
      "Epoch 7/30\n",
      "266/266 [==============================] - 1s 4ms/step - loss: 0.3284 - accuracy: 0.8592 - val_loss: 0.3447 - val_accuracy: 0.8506\n",
      "Epoch 8/30\n",
      "266/266 [==============================] - 1s 4ms/step - loss: 0.3205 - accuracy: 0.8629 - val_loss: 0.3469 - val_accuracy: 0.8502\n"
     ]
    }
   ],
   "source": [
    "gmp_model.compile(optimizer='adam',\n",
    "              loss='binary_crossentropy',\n",
    "              metrics=['accuracy'])\n",
    "              \n",
    "\n",
    "from keras.callbacks import EarlyStopping\n",
    "\n",
    "epochs=30\n",
    "early_stop = EarlyStopping(monitor='val_loss', patience=5) \n",
    "\n",
    "gmp_history = gmp_model.fit(partial_x_train,\n",
    "                    partial_y_train,\n",
    "                    epochs=epochs,\n",
    "                    batch_size=512,\n",
    "                    validation_data=(x_val, y_val),\n",
    "                    callbacks=[early_stop],  # EarlyStopping 콜백 적용\n",
    "                    verbose=1)"
   ]
  },
  {
   "cell_type": "markdown",
   "id": "680d3248",
   "metadata": {},
   "source": [
    "## 6) Loss, Accuracy 그래프 시각화"
   ]
  },
  {
   "cell_type": "markdown",
   "id": "809c81a2",
   "metadata": {},
   "source": [
    "### RNN"
   ]
  },
  {
   "cell_type": "code",
   "execution_count": 21,
   "id": "e95a1069",
   "metadata": {},
   "outputs": [
    {
     "name": "stdout",
     "output_type": "stream",
     "text": [
      "dict_keys(['loss', 'accuracy', 'val_loss', 'val_accuracy'])\n"
     ]
    }
   ],
   "source": [
    "rnn_history_dict = rnn_history.history\n",
    "print(rnn_history_dict.keys()) # epoch에 따른 그래프를 그려볼 수 있는 항목들"
   ]
  },
  {
   "cell_type": "code",
   "execution_count": 22,
   "id": "44ed739b",
   "metadata": {},
   "outputs": [
    {
     "data": {
      "image/png": "[encoded data removed]",
      "text/plain": [
       "<Figure size 432x288 with 1 Axes>"
      ]
     },
     "metadata": {
      "needs_background": "light"
     },
     "output_type": "display_data"
    }
   ],
   "source": [
    "import matplotlib.pyplot as plt\n",
    "\n",
    "acc = rnn_history_dict['accuracy']\n",
    "val_acc = rnn_history_dict['val_accuracy']\n",
    "loss = rnn_history_dict['loss']\n",
    "val_loss = rnn_history_dict['val_loss']\n",
    "\n",
    "epochs = range(1, len(acc) + 1)\n",
    "\n",
    "# \"bo\"는 \"파란색 점\"입니다\n",
    "plt.plot(epochs, loss, 'bo', label='Training loss')\n",
    "# b는 \"파란 실선\"입니다\n",
    "plt.plot(epochs, val_loss, 'b', label='Validation loss')\n",
    "plt.title('Training and validation loss')\n",
    "plt.xlabel('Epochs')\n",
    "plt.ylabel('Loss')\n",
    "plt.legend()\n",
    "\n",
    "plt.show()"
   ]
  },
  {
   "cell_type": "code",
   "execution_count": 23,
   "id": "a7701583",
   "metadata": {
    "scrolled": true
   },
   "outputs": [
    {
     "data": {
      "image/png": "[encoded data removed]",
      "text/plain": [
       "<Figure size 432x288 with 1 Axes>"
      ]
     },
     "metadata": {
      "needs_background": "light"
     },
     "output_type": "display_data"
    }
   ],
   "source": [
    "plt.clf()   # 그림을 초기화합니다\n",
    "\n",
    "plt.plot(epochs, acc, 'bo', label='Training acc')\n",
    "plt.plot(epochs, val_acc, 'b', label='Validation acc')\n",
    "plt.title('Training and validation accuracy')\n",
    "plt.xlabel('Epochs')\n",
    "plt.ylabel('Accuracy')\n",
    "plt.legend()\n",
    "\n",
    "plt.show()"
   ]
  },
  {
   "cell_type": "code",
   "execution_count": 24,
   "id": "d7c67389",
   "metadata": {},
   "outputs": [
    {
     "name": "stdout",
     "output_type": "stream",
     "text": [
      "1537/1537 - 3s - loss: 0.4040 - accuracy: 0.8485\n",
      "[0.40404582023620605, 0.8485465049743652]\n"
     ]
    }
   ],
   "source": [
    "# 테스트셋을 통한 모델 평가\n",
    "rnn_results = rnn_model.evaluate(X_test_pre,  y_test, verbose=2)\n",
    "print(rnn_results)"
   ]
  },
  {
   "cell_type": "markdown",
   "id": "e7be4bde",
   "metadata": {},
   "source": [
    "### CNN"
   ]
  },
  {
   "cell_type": "code",
   "execution_count": 25,
   "id": "ea02dc57",
   "metadata": {},
   "outputs": [
    {
     "name": "stdout",
     "output_type": "stream",
     "text": [
      "dict_keys(['loss', 'accuracy', 'val_loss', 'val_accuracy'])\n"
     ]
    }
   ],
   "source": [
    "cnn_history_dict = cnn_history.history\n",
    "print(cnn_history_dict.keys()) # epoch에 따른 그래프를 그려볼 수 있는 항목들"
   ]
  },
  {
   "cell_type": "code",
   "execution_count": 26,
   "id": "d343b16e",
   "metadata": {},
   "outputs": [
    {
     "data": {
      "image/png": "[encoded data removed]",
      "text/plain": [
       "<Figure size 432x288 with 1 Axes>"
      ]
     },
     "metadata": {
      "needs_background": "light"
     },
     "output_type": "display_data"
    }
   ],
   "source": [
    "import matplotlib.pyplot as plt\n",
    "\n",
    "acc = cnn_history_dict['accuracy']\n",
    "val_acc = cnn_history_dict['val_accuracy']\n",
    "loss = cnn_history_dict['loss']\n",
    "val_loss = cnn_history_dict['val_loss']\n",
    "\n",
    "epochs = range(1, len(acc) + 1)\n",
    "\n",
    "# \"bo\"는 \"파란색 점\"입니다\n",
    "plt.plot(epochs, loss, 'bo', label='Training loss')\n",
    "# b는 \"파란 실선\"입니다\n",
    "plt.plot(epochs, val_loss, 'b', label='Validation loss')\n",
    "plt.title('Training and validation loss')\n",
    "plt.xlabel('Epochs')\n",
    "plt.ylabel('Loss')\n",
    "plt.legend()\n",
    "\n",
    "plt.show()"
   ]
  },
  {
   "cell_type": "code",
   "execution_count": 27,
   "id": "ccf0653f",
   "metadata": {},
   "outputs": [
    {
     "data": {
      "image/png": "[encoded data removed]",
      "text/plain": [
       "<Figure size 432x288 with 1 Axes>"
      ]
     },
     "metadata": {
      "needs_background": "light"
     },
     "output_type": "display_data"
    }
   ],
   "source": [
    "plt.clf()   # 그림을 초기화합니다\n",
    "\n",
    "plt.plot(epochs, acc, 'bo', label='Training acc')\n",
    "plt.plot(epochs, val_acc, 'b', label='Validation acc')\n",
    "plt.title('Training and validation accuracy')\n",
    "plt.xlabel('Epochs')\n",
    "plt.ylabel('Accuracy')\n",
    "plt.legend()\n",
    "\n",
    "plt.show()"
   ]
  },
  {
   "cell_type": "code",
   "execution_count": 28,
   "id": "04f82338",
   "metadata": {},
   "outputs": [
    {
     "name": "stdout",
     "output_type": "stream",
     "text": [
      "1537/1537 - 2s - loss: 0.4931 - accuracy: 0.8488\n",
      "[0.493056058883667, 0.8488109707832336]\n"
     ]
    }
   ],
   "source": [
    "# 테스트셋을 통한 모델 평가\n",
    "cnn_results = cnn_model.evaluate(X_test_pre, y_test, verbose=2)\n",
    "print(cnn_results)"
   ]
  },
  {
   "cell_type": "markdown",
   "id": "a8da24cc",
   "metadata": {},
   "source": [
    "### GMP"
   ]
  },
  {
   "cell_type": "code",
   "execution_count": 29,
   "id": "1c6cf134",
   "metadata": {},
   "outputs": [
    {
     "name": "stdout",
     "output_type": "stream",
     "text": [
      "dict_keys(['loss', 'accuracy', 'val_loss', 'val_accuracy'])\n"
     ]
    }
   ],
   "source": [
    "gmp_history_dict = gmp_history.history\n",
    "print(gmp_history_dict.keys()) # epoch에 따른 그래프를 그려볼 수 있는 항목들"
   ]
  },
  {
   "cell_type": "code",
   "execution_count": 30,
   "id": "a0c72992",
   "metadata": {},
   "outputs": [
    {
     "data": {
      "image/png": "[encoded data removed]",
      "text/plain": [
       "<Figure size 432x288 with 1 Axes>"
      ]
     },
     "metadata": {
      "needs_background": "light"
     },
     "output_type": "display_data"
    }
   ],
   "source": [
    "import matplotlib.pyplot as plt\n",
    "\n",
    "acc = gmp_history_dict['accuracy']\n",
    "val_acc = gmp_history_dict['val_accuracy']\n",
    "loss = gmp_history_dict['loss']\n",
    "val_loss = gmp_history_dict['val_loss']\n",
    "\n",
    "epochs = range(1, len(acc) + 1)\n",
    "\n",
    "# \"bo\"는 \"파란색 점\"입니다\n",
    "plt.plot(epochs, loss, 'bo', label='Training loss')\n",
    "# b는 \"파란 실선\"입니다\n",
    "plt.plot(epochs, val_loss, 'b', label='Validation loss')\n",
    "plt.title('Training and validation loss')\n",
    "plt.xlabel('Epochs')\n",
    "plt.ylabel('Loss')\n",
    "plt.legend()\n",
    "\n",
    "plt.show()"
   ]
  },
  {
   "cell_type": "code",
   "execution_count": 31,
   "id": "fd9d4fcd",
   "metadata": {},
   "outputs": [
    {
     "data": {
      "image/png": "[encoded data removed]",
      "text/plain": [
       "<Figure size 432x288 with 1 Axes>"
      ]
     },
     "metadata": {
      "needs_background": "light"
     },
     "output_type": "display_data"
    }
   ],
   "source": [
    "plt.clf()   # 그림을 초기화합니다\n",
    "\n",
    "plt.plot(epochs, acc, 'bo', label='Training acc')\n",
    "plt.plot(epochs, val_acc, 'b', label='Validation acc')\n",
    "plt.title('Training and validation accuracy')\n",
    "plt.xlabel('Epochs')\n",
    "plt.ylabel('Accuracy')\n",
    "plt.legend()\n",
    "\n",
    "plt.show()"
   ]
  },
  {
   "cell_type": "code",
   "execution_count": 32,
   "id": "f1da0632",
   "metadata": {},
   "outputs": [
    {
     "name": "stdout",
     "output_type": "stream",
     "text": [
      "1537/1537 - 2s - loss: 0.3575 - accuracy: 0.8466\n",
      "[0.35753047466278076, 0.8465732336044312]\n"
     ]
    }
   ],
   "source": [
    "# 테스트셋을 통한 모델 평가\n",
    "gmp_results = gmp_model.evaluate(X_test_pre, y_test, verbose=2)\n",
    "print(gmp_results)"
   ]
  },
  {
   "cell_type": "markdown",
   "id": "64b01c36",
   "metadata": {},
   "source": [
    "## 모델 성능 비교"
   ]
  },
  {
   "cell_type": "code",
   "execution_count": 33,
   "id": "7e1f3eaa",
   "metadata": {},
   "outputs": [
    {
     "data": {
      "image/png": "[encoded data removed]",
      "text/plain": [
       "<Figure size 720x216 with 2 Axes>"
      ]
     },
     "metadata": {
      "needs_background": "light"
     },
     "output_type": "display_data"
    }
   ],
   "source": [
    "import matplotlib.pyplot as plt\n",
    "\n",
    "# 각 모델의 테스트 결과 저장\n",
    "results = {'RNN': rnn_results, 'CNN': cnn_results, 'GMP': gmp_results}\n",
    "\n",
    "# 손실과 정확도 추출\n",
    "losses = [result[0] for result in results.values()]\n",
    "accuracies = [result[1] for result in results.values()]\n",
    "\n",
    "# 시각화\n",
    "plt.figure(figsize=(10, 3))\n",
    "\n",
    "plt.subplot(1, 2, 1)\n",
    "plt.bar(results.keys(), losses, color=['blue', 'orange', 'green'])\n",
    "for i, loss in enumerate(losses):\n",
    "    plt.text(i, loss, str(round(loss, 4)), ha='center', va='top', color='white')\n",
    "plt.title('Test Loss')\n",
    "plt.xlabel('Model')\n",
    "plt.ylabel('Loss')\n",
    "\n",
    "plt.subplot(1, 2, 2)\n",
    "plt.bar(results.keys(), accuracies, color=['blue', 'orange', 'green'])\n",
    "for i, acc in enumerate(accuracies):\n",
    "    plt.text(i, acc, str(round(acc, 4)), ha='center', va='top', color='white')\n",
    "plt.title('Test Accuracy')\n",
    "plt.xlabel('Model')\n",
    "plt.ylabel('Accuracy')\n",
    "\n",
    "plt.tight_layout()\n",
    "plt.show()\n"
   ]
  },
  {
   "cell_type": "markdown",
   "id": "b371ae11",
   "metadata": {},
   "source": [
    "### 모델별 성능 분석\n",
    "세 개의 모델이 모두 84% 후반대의 정확도를 나타낸다. 세 모델 모두 Word2Vec Embedding Layer를 적용해보자."
   ]
  },
  {
   "cell_type": "markdown",
   "id": "ad5b9418",
   "metadata": {},
   "source": [
    "## 7) 학습된 Embedding 레이어 분석"
   ]
  },
  {
   "cell_type": "code",
   "execution_count": 34,
   "id": "ac33fecc",
   "metadata": {},
   "outputs": [
    {
     "name": "stdout",
     "output_type": "stream",
     "text": [
      "(10000, 100)\n"
     ]
    }
   ],
   "source": [
    "rnn_embedding_layer = rnn_model.layers[0]\n",
    "rnn_weights = rnn_embedding_layer.get_weights()[0]\n",
    "print(rnn_weights.shape)    # shape: (vocab_size, embedding_dim)"
   ]
  },
  {
   "cell_type": "code",
   "execution_count": 35,
   "id": "9f36deb2",
   "metadata": {},
   "outputs": [],
   "source": [
    "import os\n",
    "\n",
    "# 학습한 Embedding 파라미터를 파일에 써서 저장합니다. \n",
    "file_path = os.getenv('HOME')+'/aiffel/NLP/sentiment_classification/data/rnn_embedding.txt'\n",
    "f = open(file_path, 'w')\n",
    "f.write('{} {}\\n'.format(vocab_size-4, word_vector_dim))  # 몇개의 벡터를 얼마 사이즈로 기재할지 타이틀을 씁니다.\n",
    "\n",
    "# 단어 개수(에서 특수문자 4개는 제외하고)만큼의 워드 벡터를 파일에 기록합니다. \n",
    "vectors = rnn_model.get_weights()[0]\n",
    "for i in range(4,vocab_size):\n",
    "    f.write('{} {}\\n'.format(index_to_word[i], ' '.join(map(str, list(vectors[i, :])))))\n",
    "f.close()"
   ]
  },
  {
   "cell_type": "code",
   "execution_count": 36,
   "id": "ac084c8a",
   "metadata": {},
   "outputs": [],
   "source": [
    "from gensim.models import KeyedVectors\n",
    "\n",
    "# 저장된 단어 임베딩 파일을 로드합니다.\n",
    "word_vectors = KeyedVectors.load_word2vec_format(file_path, binary=False)"
   ]
  },
  {
   "cell_type": "code",
   "execution_count": 37,
   "id": "546c7150",
   "metadata": {},
   "outputs": [
    {
     "data": {
      "text/plain": [
       "[('소이현', 0.44777312874794006),\n",
       " ('찍', 0.4425896108150482),\n",
       " ('오버액션', 0.44000306725502014),\n",
       " ('멤버', 0.43827569484710693),\n",
       " ('쿵후', 0.43766841292381287),\n",
       " ('차례', 0.4359890818595886),\n",
       " ('갱', 0.4356937110424042),\n",
       " ('딱', 0.43123817443847656),\n",
       " ('황당', 0.4303208887577057)]"
      ]
     },
     "execution_count": 37,
     "metadata": {},
     "output_type": "execute_result"
    }
   ],
   "source": [
    "# '배우'와 가장 유사한 단어를 찾습니다.\n",
    "word_vectors.most_similar('배우', topn=10)[:-1]"
   ]
  },
  {
   "cell_type": "code",
   "execution_count": 38,
   "id": "18b90f57",
   "metadata": {},
   "outputs": [
    {
     "data": {
      "text/plain": [
       "[('써니', 0.6440721154212952),\n",
       " ('안다면', 0.6187566518783569),\n",
       " ('데이트', 0.6171678900718689),\n",
       " ('김수미', 0.6096211075782776),\n",
       " (\".'\", 0.6078038811683655),\n",
       " ('레지던트', 0.607146143913269),\n",
       " ('조마조마', 0.5971746444702148),\n",
       " ('대화', 0.5867068767547607),\n",
       " ('등등', 0.5782745480537415)]"
      ]
     },
     "execution_count": 38,
     "metadata": {},
     "output_type": "execute_result"
    }
   ],
   "source": [
    "# '장르'와 가장 유사한 단어를 찾습니다.\n",
    "word_vectors.most_similar('장르', topn=10)[:-1]"
   ]
  },
  {
   "cell_type": "markdown",
   "id": "c1cf7185",
   "metadata": {},
   "source": [
    "의미로 봤을 때 딱히 유사한 단어를 찾는 거 같진 않다"
   ]
  },
  {
   "cell_type": "markdown",
   "id": "54be6196",
   "metadata": {},
   "source": [
    "## 8) 한국어 Word2Vec 임베딩 활용하여 성능 개선\n"
   ]
  },
  {
   "cell_type": "markdown",
   "id": "3b49f306",
   "metadata": {},
   "source": [
    "### Word2Vec의 유사한 단어 찾는 성능 확인"
   ]
  },
  {
   "cell_type": "code",
   "execution_count": 65,
   "id": "3e51f1aa",
   "metadata": {},
   "outputs": [],
   "source": [
    "word2vec_file_path = os.getenv('HOME')+'/data/word2vec_ko.model'\n",
    "from gensim.models.keyedvectors import Word2VecKeyedVectors\n",
    "word_vectors = Word2VecKeyedVectors.load(word2vec_file_path)"
   ]
  },
  {
   "cell_type": "code",
   "execution_count": 66,
   "id": "b5c156a5",
   "metadata": {},
   "outputs": [
    {
     "data": {
      "text/plain": [
       "(302960, 100)"
      ]
     },
     "execution_count": 66,
     "metadata": {},
     "output_type": "execute_result"
    }
   ],
   "source": [
    "word_vectors.wv.vectors.shape"
   ]
  },
  {
   "cell_type": "code",
   "execution_count": 67,
   "id": "24ef32ad",
   "metadata": {},
   "outputs": [
    {
     "data": {
      "text/plain": [
       "[('가수', 0.7729029655456543),\n",
       " ('코미디언', 0.7728644609451294),\n",
       " ('만화가', 0.749615490436554),\n",
       " ('영화배우', 0.7441834211349487),\n",
       " ('여배우', 0.7411354184150696),\n",
       " ('연출가', 0.7396705746650696),\n",
       " ('극작가', 0.7209770679473877),\n",
       " ('삽화가', 0.7152643799781799),\n",
       " ('안무가', 0.7149248123168945),\n",
       " ('무용가', 0.7118033766746521)]"
      ]
     },
     "execution_count": 67,
     "metadata": {},
     "output_type": "execute_result"
    }
   ],
   "source": [
    "word_vectors.wv.most_similar('배우')"
   ]
  },
  {
   "cell_type": "code",
   "execution_count": 68,
   "id": "493bcc45",
   "metadata": {},
   "outputs": [
    {
     "data": {
      "text/plain": [
       "[('스타일', 0.7507143616676331),\n",
       " ('주제', 0.7043392658233643),\n",
       " ('멜로디', 0.6926088333129883),\n",
       " ('요소', 0.6893783807754517),\n",
       " ('사운드', 0.6872262358665466),\n",
       " ('레퍼토리', 0.6859424114227295),\n",
       " ('펑크', 0.6812448501586914),\n",
       " ('발라드', 0.6788304448127747),\n",
       " ('음악', 0.6761245727539062),\n",
       " ('사조', 0.6682040691375732)]"
      ]
     },
     "execution_count": 68,
     "metadata": {},
     "output_type": "execute_result"
    }
   ],
   "source": [
    "word_vectors.wv.most_similar('장르')"
   ]
  },
  {
   "cell_type": "markdown",
   "id": "b68eae72",
   "metadata": {},
   "source": [
    "### 직접 학습한 모델 + Word2Vec -> 감정 분석"
   ]
  },
  {
   "cell_type": "code",
   "execution_count": 69,
   "id": "30a39ce2",
   "metadata": {},
   "outputs": [],
   "source": [
    "vocab_size = 10000    # 어휘 사전의 크기입니다(10,000개의 단어)\n",
    "word_vector_dim = 100  # 워드 벡터의 차원수\n",
    "embedding_matrix = np.random.rand(vocab_size, word_vector_dim)\n",
    "\n",
    "# embedding_matrix에 Word2Vec 워드 벡터를 단어 하나씩마다 차례차례 카피한다.\n",
    "for i in range(4,vocab_size):\n",
    "    if index_to_word[i] in word_vectors.wv:\n",
    "        embedding_matrix[i] = word_vectors.wv[index_to_word[i]]"
   ]
  },
  {
   "cell_type": "markdown",
   "id": "e922e07f",
   "metadata": {},
   "source": [
    "### RNN"
   ]
  },
  {
   "cell_type": "code",
   "execution_count": 70,
   "id": "7a259d50",
   "metadata": {},
   "outputs": [
    {
     "name": "stdout",
     "output_type": "stream",
     "text": [
      "Model: \"sequential_7\"\n",
      "_________________________________________________________________\n",
      "Layer (type)                 Output Shape              Param #   \n",
      "=================================================================\n",
      "embedding_7 (Embedding)      (None, 54, 100)           1000000   \n",
      "_________________________________________________________________\n",
      "lstm_3 (LSTM)                (None, 100)               80400     \n",
      "_________________________________________________________________\n",
      "dropout_10 (Dropout)         (None, 100)               0         \n",
      "_________________________________________________________________\n",
      "dense_14 (Dense)             (None, 64)                6464      \n",
      "_________________________________________________________________\n",
      "dropout_11 (Dropout)         (None, 64)                0         \n",
      "_________________________________________________________________\n",
      "dense_15 (Dense)             (None, 1)                 65        \n",
      "=================================================================\n",
      "Total params: 1,086,929\n",
      "Trainable params: 1,086,929\n",
      "Non-trainable params: 0\n",
      "_________________________________________________________________\n"
     ]
    }
   ],
   "source": [
    "# 모델 구성\n",
    "\n",
    "from tensorflow.keras.initializers import Constant\n",
    "\n",
    "vocab_size = 10000    # 어휘 사전의 크기입니다(10,000개의 단어)\n",
    "word_vector_dim = 100  # 워드 벡터의 차원 수 \n",
    "\n",
    "up_rnn_model = tf.keras.Sequential()\n",
    "up_rnn_model.add(tf.keras.layers.Embedding(vocab_size, \n",
    "                                 word_vector_dim, \n",
    "                                 embeddings_initializer=Constant(embedding_matrix),  # 카피한 임베딩을 여기서 활용\n",
    "                                 input_length=maxlen, \n",
    "                                 trainable=True))   # trainable을 True로 주면 Fine-tuning\n",
    "up_rnn_model.add(tf.keras.layers.LSTM(100))  \n",
    "up_rnn_model.add(tf.keras.layers.Dropout(0.8))  # Dropout 추가\n",
    "up_rnn_model.add(tf.keras.layers.Dense(64, activation='relu'))\n",
    "up_rnn_model.add(tf.keras.layers.Dropout(0.8))  # Dropout 추가\n",
    "up_rnn_model.add(tf.keras.layers.Dense(1, activation='sigmoid'))  # 최종 출력은 긍정/부정을 나타내는 1dim 입니다.\n",
    "\n",
    "up_rnn_model.summary()"
   ]
  },
  {
   "cell_type": "code",
   "execution_count": 71,
   "id": "0d81b7d6",
   "metadata": {
    "scrolled": true
   },
   "outputs": [
    {
     "name": "stdout",
     "output_type": "stream",
     "text": [
      "Epoch 1/30\n",
      "266/266 [==============================] - 5s 13ms/step - loss: 0.6709 - accuracy: 0.5984 - val_loss: 0.5169 - val_accuracy: 0.7686\n",
      "Epoch 2/30\n",
      "266/266 [==============================] - 3s 11ms/step - loss: 0.4933 - accuracy: 0.7782 - val_loss: 0.3895 - val_accuracy: 0.8281\n",
      "Epoch 3/30\n",
      "266/266 [==============================] - 3s 11ms/step - loss: 0.4130 - accuracy: 0.8262 - val_loss: 0.3460 - val_accuracy: 0.8503\n",
      "Epoch 4/30\n",
      "266/266 [==============================] - 3s 12ms/step - loss: 0.3734 - accuracy: 0.8462 - val_loss: 0.3292 - val_accuracy: 0.8548\n",
      "Epoch 5/30\n",
      "266/266 [==============================] - 3s 11ms/step - loss: 0.3469 - accuracy: 0.8601 - val_loss: 0.3245 - val_accuracy: 0.8601\n",
      "Epoch 6/30\n",
      "266/266 [==============================] - 3s 11ms/step - loss: 0.3282 - accuracy: 0.8692 - val_loss: 0.3271 - val_accuracy: 0.8594\n",
      "Epoch 7/30\n",
      "266/266 [==============================] - 3s 11ms/step - loss: 0.3129 - accuracy: 0.8764 - val_loss: 0.3234 - val_accuracy: 0.8599\n",
      "Epoch 8/30\n",
      "266/266 [==============================] - 3s 11ms/step - loss: 0.3000 - accuracy: 0.8817 - val_loss: 0.3195 - val_accuracy: 0.8647\n",
      "Epoch 9/30\n",
      "266/266 [==============================] - 3s 11ms/step - loss: 0.2888 - accuracy: 0.8868 - val_loss: 0.3329 - val_accuracy: 0.8636\n",
      "Epoch 10/30\n",
      "266/266 [==============================] - 3s 11ms/step - loss: 0.2746 - accuracy: 0.8930 - val_loss: 0.3282 - val_accuracy: 0.8647\n",
      "Epoch 11/30\n",
      "266/266 [==============================] - 3s 12ms/step - loss: 0.2652 - accuracy: 0.8971 - val_loss: 0.3250 - val_accuracy: 0.8679\n",
      "Epoch 12/30\n",
      "266/266 [==============================] - 3s 11ms/step - loss: 0.2532 - accuracy: 0.9022 - val_loss: 0.3336 - val_accuracy: 0.8663\n",
      "Epoch 13/30\n",
      "266/266 [==============================] - 3s 11ms/step - loss: 0.2459 - accuracy: 0.9056 - val_loss: 0.3513 - val_accuracy: 0.8644\n"
     ]
    }
   ],
   "source": [
    "optimizer = tf.keras.optimizers.Adam(learning_rate=0.001)\n",
    "up_rnn_model.compile(optimizer=optimizer,\n",
    "              loss='binary_crossentropy',\n",
    "              metrics=['accuracy'])\n",
    "              \n",
    "\n",
    "from keras.callbacks import EarlyStopping, LearningRateScheduler\n",
    "\n",
    "epochs = 30\n",
    "early_stop = EarlyStopping(monitor='val_loss', patience=5) \n",
    "\n",
    "up_rnn_history = up_rnn_model.fit(partial_x_train,\n",
    "                    partial_y_train,\n",
    "                    epochs=epochs,\n",
    "                    batch_size=512,\n",
    "                    validation_data=(x_val, y_val),\n",
    "                    callbacks=[early_stop],  \n",
    "                    verbose=1)"
   ]
  },
  {
   "cell_type": "code",
   "execution_count": 72,
   "id": "3894f481",
   "metadata": {},
   "outputs": [],
   "source": [
    "up_rnn_history_dict = up_rnn_history.history"
   ]
  },
  {
   "cell_type": "code",
   "execution_count": 73,
   "id": "c67843e3",
   "metadata": {},
   "outputs": [
    {
     "data": {
      "image/png": "[encoded data removed]",
      "text/plain": [
       "<Figure size 432x288 with 1 Axes>"
      ]
     },
     "metadata": {
      "needs_background": "light"
     },
     "output_type": "display_data"
    }
   ],
   "source": [
    "import matplotlib.pyplot as plt\n",
    "\n",
    "acc = up_rnn_history_dict['accuracy']\n",
    "val_acc = up_rnn_history_dict['val_accuracy']\n",
    "loss = up_rnn_history_dict['loss']\n",
    "val_loss = up_rnn_history_dict['val_loss']\n",
    "\n",
    "epochs = range(1, len(acc) + 1)\n",
    "\n",
    "# \"bo\"는 \"파란색 점\"입니다\n",
    "plt.plot(epochs, loss, 'bo', label='Training loss')\n",
    "# b는 \"파란 실선\"입니다\n",
    "plt.plot(epochs, val_loss, 'b', label='Validation loss')\n",
    "plt.title('Training and validation loss')\n",
    "plt.xlabel('Epochs')\n",
    "plt.ylabel('Loss')\n",
    "plt.legend()\n",
    "\n",
    "plt.show()"
   ]
  },
  {
   "cell_type": "code",
   "execution_count": 74,
   "id": "431ec47e",
   "metadata": {
    "scrolled": true
   },
   "outputs": [
    {
     "data": {
      "image/png": "[encoded data removed]",
      "text/plain": [
       "<Figure size 432x288 with 1 Axes>"
      ]
     },
     "metadata": {
      "needs_background": "light"
     },
     "output_type": "display_data"
    }
   ],
   "source": [
    "plt.clf()   # 그림을 초기화합니다\n",
    "\n",
    "plt.plot(epochs, acc, 'bo', label='Training acc')\n",
    "plt.plot(epochs, val_acc, 'b', label='Validation acc')\n",
    "plt.title('Training and validation accuracy')\n",
    "plt.xlabel('Epochs')\n",
    "plt.ylabel('Accuracy')\n",
    "plt.legend()\n",
    "\n",
    "plt.show()"
   ]
  },
  {
   "cell_type": "code",
   "execution_count": 75,
   "id": "bf287072",
   "metadata": {},
   "outputs": [
    {
     "name": "stdout",
     "output_type": "stream",
     "text": [
      "1537/1537 - 3s - loss: 0.3602 - accuracy: 0.8613\n",
      "[0.3601764440536499, 0.8613422513008118]\n"
     ]
    }
   ],
   "source": [
    "# 테스트셋을 통한 모델 평가\n",
    "up_rnn_results = up_rnn_model.evaluate(X_test_pre,  y_test, verbose=2)\n",
    "print(up_rnn_results)"
   ]
  },
  {
   "cell_type": "markdown",
   "id": "342dfa23",
   "metadata": {},
   "source": [
    "### CNN"
   ]
  },
  {
   "cell_type": "code",
   "execution_count": 76,
   "id": "72a6bd66",
   "metadata": {},
   "outputs": [],
   "source": [
    "vocab_size = 10000    # 어휘 사전의 크기입니다(10,000개의 단어)\n",
    "word_vector_dim = 100  # 워드 벡터의 차원수\n",
    "embedding_matrix = np.random.rand(vocab_size, word_vector_dim)\n",
    "\n",
    "# embedding_matrix에 Word2Vec 워드 벡터를 단어 하나씩마다 차례차례 카피한다.\n",
    "for i in range(4,vocab_size):\n",
    "    if index_to_word[i] in word_vectors.wv:\n",
    "        embedding_matrix[i] = word_vectors.wv[index_to_word[i]]"
   ]
  },
  {
   "cell_type": "code",
   "execution_count": 77,
   "id": "cf527bc4",
   "metadata": {},
   "outputs": [
    {
     "name": "stdout",
     "output_type": "stream",
     "text": [
      "Model: \"sequential_8\"\n",
      "_________________________________________________________________\n",
      "Layer (type)                 Output Shape              Param #   \n",
      "=================================================================\n",
      "embedding_8 (Embedding)      (None, 54, 100)           1000000   \n",
      "_________________________________________________________________\n",
      "conv1d_2 (Conv1D)            (None, 50, 64)            32064     \n",
      "_________________________________________________________________\n",
      "global_max_pooling1d_4 (Glob (None, 64)                0         \n",
      "_________________________________________________________________\n",
      "dense_16 (Dense)             (None, 32)                2080      \n",
      "_________________________________________________________________\n",
      "dropout_12 (Dropout)         (None, 32)                0         \n",
      "_________________________________________________________________\n",
      "dense_17 (Dense)             (None, 1)                 33        \n",
      "=================================================================\n",
      "Total params: 1,034,177\n",
      "Trainable params: 1,034,177\n",
      "Non-trainable params: 0\n",
      "_________________________________________________________________\n"
     ]
    }
   ],
   "source": [
    "# 모델 구성\n",
    "\n",
    "from tensorflow.keras.initializers import Constant\n",
    "\n",
    "vocab_size = 10000    # 어휘 사전의 크기입니다(10,000개의 단어)\n",
    "word_vector_dim = 100  # 워드 벡터의 차원 수 \n",
    "\n",
    "up_cnn_model = tf.keras.Sequential()\n",
    "up_cnn_model.add(tf.keras.layers.Embedding(vocab_size, \n",
    "                                 word_vector_dim, \n",
    "                                 embeddings_initializer=Constant(embedding_matrix),  # 카피한 임베딩을 여기서 활용\n",
    "                                 input_length=maxlen, \n",
    "                                 trainable=True))   # trainable을 True로 주면 Fine-tuning\n",
    "up_cnn_model.add(tf.keras.layers.Conv1D(64, 5, activation='relu'))\n",
    "up_cnn_model.add(tf.keras.layers.GlobalMaxPooling1D())\n",
    "up_cnn_model.add(tf.keras.layers.Dense(32, activation='relu'))\n",
    "up_cnn_model.add(tf.keras.layers.Dropout(0.7))  # 드롭아웃 적용\n",
    "up_cnn_model.add(tf.keras.layers.Dense(1, activation='sigmoid'))  # 최종 출력은 긍정/부정을 나타내는 1dim 입니다.\n",
    "\n",
    "up_cnn_model.summary()"
   ]
  },
  {
   "cell_type": "code",
   "execution_count": 78,
   "id": "949df598",
   "metadata": {
    "scrolled": true
   },
   "outputs": [
    {
     "name": "stdout",
     "output_type": "stream",
     "text": [
      "Epoch 1/30\n",
      "266/266 [==============================] - 2s 7ms/step - loss: 0.7322 - accuracy: 0.5683 - val_loss: 0.5648 - val_accuracy: 0.7169\n",
      "Epoch 2/30\n",
      "266/266 [==============================] - 2s 6ms/step - loss: 0.5834 - accuracy: 0.6849 - val_loss: 0.5052 - val_accuracy: 0.7680\n",
      "Epoch 3/30\n",
      "266/266 [==============================] - 2s 6ms/step - loss: 0.5225 - accuracy: 0.7396 - val_loss: 0.4349 - val_accuracy: 0.8023\n",
      "Epoch 4/30\n",
      "266/266 [==============================] - 2s 6ms/step - loss: 0.4646 - accuracy: 0.7775 - val_loss: 0.3929 - val_accuracy: 0.8249\n",
      "Epoch 5/30\n",
      "266/266 [==============================] - 2s 6ms/step - loss: 0.4217 - accuracy: 0.8037 - val_loss: 0.3708 - val_accuracy: 0.8368\n",
      "Epoch 6/30\n",
      "266/266 [==============================] - 2s 6ms/step - loss: 0.3891 - accuracy: 0.8252 - val_loss: 0.3599 - val_accuracy: 0.8417\n",
      "Epoch 7/30\n",
      "266/266 [==============================] - 2s 6ms/step - loss: 0.3676 - accuracy: 0.8398 - val_loss: 0.3528 - val_accuracy: 0.8470\n",
      "Epoch 8/30\n",
      "266/266 [==============================] - 2s 6ms/step - loss: 0.3466 - accuracy: 0.8515 - val_loss: 0.3467 - val_accuracy: 0.8508\n",
      "Epoch 9/30\n",
      "266/266 [==============================] - 2s 6ms/step - loss: 0.3285 - accuracy: 0.8622 - val_loss: 0.3494 - val_accuracy: 0.8509\n",
      "Epoch 10/30\n",
      "266/266 [==============================] - 2s 6ms/step - loss: 0.3103 - accuracy: 0.8713 - val_loss: 0.3541 - val_accuracy: 0.8535\n",
      "Epoch 11/30\n",
      "266/266 [==============================] - 2s 6ms/step - loss: 0.2924 - accuracy: 0.8780 - val_loss: 0.3528 - val_accuracy: 0.8491\n",
      "Epoch 12/30\n",
      "266/266 [==============================] - 2s 6ms/step - loss: 0.2809 - accuracy: 0.8856 - val_loss: 0.3631 - val_accuracy: 0.8510\n",
      "Epoch 13/30\n",
      "266/266 [==============================] - 2s 6ms/step - loss: 0.2656 - accuracy: 0.8914 - val_loss: 0.3761 - val_accuracy: 0.8367\n"
     ]
    }
   ],
   "source": [
    "optimizer = tf.keras.optimizers.Adam(learning_rate=0.001)\n",
    "up_cnn_model.compile(optimizer=optimizer,\n",
    "              loss='binary_crossentropy',\n",
    "              metrics=['accuracy'])\n",
    "              \n",
    "\n",
    "from keras.callbacks import EarlyStopping, LearningRateScheduler\n",
    "\n",
    "epochs = 30\n",
    "early_stop = EarlyStopping(monitor='val_loss', patience=5) \n",
    "\n",
    "up_cnn_history = up_cnn_model.fit(partial_x_train,\n",
    "                    partial_y_train,\n",
    "                    epochs=epochs,\n",
    "                    batch_size=512,\n",
    "                    validation_data=(x_val, y_val),\n",
    "                    callbacks=[early_stop],  \n",
    "                    verbose=1)"
   ]
  },
  {
   "cell_type": "code",
   "execution_count": 79,
   "id": "c7890bee",
   "metadata": {},
   "outputs": [],
   "source": [
    "up_cnn_history_dict = up_cnn_history.history"
   ]
  },
  {
   "cell_type": "code",
   "execution_count": 80,
   "id": "cc8415af",
   "metadata": {},
   "outputs": [
    {
     "data": {
      "image/png": "[encoded data removed]",
      "text/plain": [
       "<Figure size 432x288 with 1 Axes>"
      ]
     },
     "metadata": {
      "needs_background": "light"
     },
     "output_type": "display_data"
    }
   ],
   "source": [
    "import matplotlib.pyplot as plt\n",
    "\n",
    "acc = up_cnn_history_dict['accuracy']\n",
    "val_acc = up_cnn_history_dict['val_accuracy']\n",
    "loss = up_cnn_history_dict['loss']\n",
    "val_loss = up_cnn_history_dict['val_loss']\n",
    "\n",
    "epochs = range(1, len(acc) + 1)\n",
    "\n",
    "# \"bo\"는 \"파란색 점\"입니다\n",
    "plt.plot(epochs, loss, 'bo', label='Training loss')\n",
    "# b는 \"파란 실선\"입니다\n",
    "plt.plot(epochs, val_loss, 'b', label='Validation loss')\n",
    "plt.title('Training and validation loss')\n",
    "plt.xlabel('Epochs')\n",
    "plt.ylabel('Loss')\n",
    "plt.legend()\n",
    "\n",
    "plt.show()"
   ]
  },
  {
   "cell_type": "code",
   "execution_count": 81,
   "id": "b0d526ea",
   "metadata": {
    "scrolled": true
   },
   "outputs": [
    {
     "data": {
      "image/png": "[encoded data removed]",
      "text/plain": [
       "<Figure size 432x288 with 1 Axes>"
      ]
     },
     "metadata": {
      "needs_background": "light"
     },
     "output_type": "display_data"
    }
   ],
   "source": [
    "plt.clf()   # 그림을 초기화합니다\n",
    "\n",
    "plt.plot(epochs, acc, 'bo', label='Training acc')\n",
    "plt.plot(epochs, val_acc, 'b', label='Validation acc')\n",
    "plt.title('Training and validation accuracy')\n",
    "plt.xlabel('Epochs')\n",
    "plt.ylabel('Accuracy')\n",
    "plt.legend()\n",
    "\n",
    "plt.show()"
   ]
  },
  {
   "cell_type": "code",
   "execution_count": 82,
   "id": "69d2b0aa",
   "metadata": {},
   "outputs": [
    {
     "name": "stdout",
     "output_type": "stream",
     "text": [
      "1537/1537 - 2s - loss: 0.3828 - accuracy: 0.8369\n",
      "[0.3827892243862152, 0.8368899822235107]\n"
     ]
    }
   ],
   "source": [
    "# 테스트셋을 통한 모델 평가\n",
    "up_cnn_results = up_cnn_model.evaluate(X_test_pre,  y_test, verbose=2)\n",
    "print(up_cnn_results)"
   ]
  },
  {
   "cell_type": "markdown",
   "id": "03647a3b",
   "metadata": {},
   "source": [
    "### GMP"
   ]
  },
  {
   "cell_type": "code",
   "execution_count": 83,
   "id": "ee6db4e1",
   "metadata": {},
   "outputs": [],
   "source": [
    "vocab_size = 10000    # 어휘 사전의 크기입니다(10,000개의 단어)\n",
    "word_vector_dim = 100  # 워드 벡터의 차원수\n",
    "embedding_matrix = np.random.rand(vocab_size, word_vector_dim)\n",
    "\n",
    "# embedding_matrix에 Word2Vec 워드 벡터를 단어 하나씩마다 차례차례 카피한다.\n",
    "for i in range(4,vocab_size):\n",
    "    if index_to_word[i] in word_vectors.wv:\n",
    "        embedding_matrix[i] = word_vectors.wv[index_to_word[i]]"
   ]
  },
  {
   "cell_type": "code",
   "execution_count": 84,
   "id": "23fac430",
   "metadata": {},
   "outputs": [
    {
     "name": "stdout",
     "output_type": "stream",
     "text": [
      "Model: \"sequential_9\"\n",
      "_________________________________________________________________\n",
      "Layer (type)                 Output Shape              Param #   \n",
      "=================================================================\n",
      "embedding_9 (Embedding)      (None, 54, 100)           1000000   \n",
      "_________________________________________________________________\n",
      "global_max_pooling1d_5 (Glob (None, 100)               0         \n",
      "_________________________________________________________________\n",
      "dropout_13 (Dropout)         (None, 100)               0         \n",
      "_________________________________________________________________\n",
      "dense_18 (Dense)             (None, 64)                6464      \n",
      "_________________________________________________________________\n",
      "dense_19 (Dense)             (None, 1)                 65        \n",
      "=================================================================\n",
      "Total params: 1,006,529\n",
      "Trainable params: 1,006,529\n",
      "Non-trainable params: 0\n",
      "_________________________________________________________________\n"
     ]
    }
   ],
   "source": [
    "# 모델 구성\n",
    "\n",
    "from tensorflow.keras.initializers import Constant\n",
    "\n",
    "vocab_size = 10000    # 어휘 사전의 크기입니다(10,000개의 단어)\n",
    "word_vector_dim = 100  # 워드 벡터의 차원 수 \n",
    "\n",
    "up_gmp_model = tf.keras.Sequential()\n",
    "up_gmp_model.add(tf.keras.layers.Embedding(vocab_size, \n",
    "                                 word_vector_dim, \n",
    "                                 embeddings_initializer=Constant(embedding_matrix),  # 카피한 임베딩을 여기서 활용\n",
    "                                 input_length=maxlen, \n",
    "                                 trainable=True))   # trainable을 True로 주면 Fine-tuning\n",
    "up_gmp_model.add(tf.keras.layers.GlobalMaxPooling1D())\n",
    "up_gmp_model.add(tf.keras.layers.Dropout(0.7))  # 드롭아웃 레이어 추가\n",
    "up_gmp_model.add(tf.keras.layers.Dense(64, activation='relu'))\n",
    "up_gmp_model.add(tf.keras.layers.Dense(1, activation='sigmoid'))  # 최종 출력은 긍정/부정을 나타내는 1dim 입니다.\n",
    "\n",
    "up_gmp_model.summary()"
   ]
  },
  {
   "cell_type": "code",
   "execution_count": 85,
   "id": "754d8134",
   "metadata": {
    "scrolled": true
   },
   "outputs": [
    {
     "name": "stdout",
     "output_type": "stream",
     "text": [
      "Epoch 1/30\n",
      "266/266 [==============================] - 2s 5ms/step - loss: 0.9415 - accuracy: 0.5117 - val_loss: 0.6829 - val_accuracy: 0.5400\n",
      "Epoch 2/30\n",
      "266/266 [==============================] - 1s 4ms/step - loss: 0.7071 - accuracy: 0.5286 - val_loss: 0.6836 - val_accuracy: 0.5313\n",
      "Epoch 3/30\n",
      "266/266 [==============================] - 1s 4ms/step - loss: 0.6927 - accuracy: 0.5397 - val_loss: 0.6778 - val_accuracy: 0.6001\n",
      "Epoch 4/30\n",
      "266/266 [==============================] - 1s 4ms/step - loss: 0.6887 - accuracy: 0.5463 - val_loss: 0.6777 - val_accuracy: 0.5646\n",
      "Epoch 5/30\n",
      "266/266 [==============================] - 1s 4ms/step - loss: 0.6870 - accuracy: 0.5508 - val_loss: 0.6726 - val_accuracy: 0.5995\n",
      "Epoch 6/30\n",
      "266/266 [==============================] - 1s 4ms/step - loss: 0.6840 - accuracy: 0.5566 - val_loss: 0.6768 - val_accuracy: 0.5356\n",
      "Epoch 7/30\n",
      "266/266 [==============================] - 1s 4ms/step - loss: 0.6810 - accuracy: 0.5651 - val_loss: 0.6637 - val_accuracy: 0.6757\n",
      "Epoch 8/30\n",
      "266/266 [==============================] - 1s 4ms/step - loss: 0.6779 - accuracy: 0.5728 - val_loss: 0.6601 - val_accuracy: 0.6813\n",
      "Epoch 9/30\n",
      "266/266 [==============================] - 1s 4ms/step - loss: 0.6734 - accuracy: 0.5824 - val_loss: 0.6587 - val_accuracy: 0.6498\n",
      "Epoch 10/30\n",
      "266/266 [==============================] - 1s 4ms/step - loss: 0.6677 - accuracy: 0.5926 - val_loss: 0.6489 - val_accuracy: 0.6758\n",
      "Epoch 11/30\n",
      "266/266 [==============================] - 1s 4ms/step - loss: 0.6631 - accuracy: 0.6010 - val_loss: 0.6479 - val_accuracy: 0.7048\n",
      "Epoch 12/30\n",
      "266/266 [==============================] - 1s 4ms/step - loss: 0.6549 - accuracy: 0.6151 - val_loss: 0.6485 - val_accuracy: 0.6061\n",
      "Epoch 13/30\n",
      "266/266 [==============================] - 1s 4ms/step - loss: 0.6493 - accuracy: 0.6215 - val_loss: 0.6421 - val_accuracy: 0.6291\n",
      "Epoch 14/30\n",
      "266/266 [==============================] - 1s 4ms/step - loss: 0.6412 - accuracy: 0.6332 - val_loss: 0.6351 - val_accuracy: 0.6437\n",
      "Epoch 15/30\n",
      "266/266 [==============================] - 1s 4ms/step - loss: 0.6318 - accuracy: 0.6437 - val_loss: 0.6447 - val_accuracy: 0.5923\n",
      "Epoch 16/30\n",
      "266/266 [==============================] - 1s 4ms/step - loss: 0.6224 - accuracy: 0.6545 - val_loss: 0.6234 - val_accuracy: 0.6744\n",
      "Epoch 17/30\n",
      "266/266 [==============================] - 1s 4ms/step - loss: 0.6153 - accuracy: 0.6620 - val_loss: 0.6344 - val_accuracy: 0.6112\n",
      "Epoch 18/30\n",
      "266/266 [==============================] - 1s 4ms/step - loss: 0.6069 - accuracy: 0.6713 - val_loss: 0.6346 - val_accuracy: 0.6100\n",
      "Epoch 19/30\n",
      "266/266 [==============================] - 1s 4ms/step - loss: 0.6010 - accuracy: 0.6773 - val_loss: 0.6314 - val_accuracy: 0.6185\n",
      "Epoch 20/30\n",
      "266/266 [==============================] - 1s 4ms/step - loss: 0.5919 - accuracy: 0.6849 - val_loss: 0.6291 - val_accuracy: 0.6186\n",
      "Epoch 21/30\n",
      "266/266 [==============================] - 1s 4ms/step - loss: 0.5854 - accuracy: 0.6911 - val_loss: 0.6292 - val_accuracy: 0.6214\n"
     ]
    }
   ],
   "source": [
    "optimizer = tf.keras.optimizers.Adam(learning_rate=0.001)\n",
    "up_gmp_model.compile(optimizer=optimizer,\n",
    "              loss='binary_crossentropy',\n",
    "              metrics=['accuracy'])\n",
    "              \n",
    "\n",
    "from keras.callbacks import EarlyStopping, LearningRateScheduler\n",
    "\n",
    "epochs = 30\n",
    "early_stop = EarlyStopping(monitor='val_loss', patience=5) \n",
    "\n",
    "up_gmp_history = up_gmp_model.fit(partial_x_train,\n",
    "                    partial_y_train,\n",
    "                    epochs=epochs,\n",
    "                    batch_size=512,\n",
    "                    validation_data=(x_val, y_val),\n",
    "                    callbacks=[early_stop],  \n",
    "                    verbose=1)"
   ]
  },
  {
   "cell_type": "code",
   "execution_count": 86,
   "id": "7c958809",
   "metadata": {},
   "outputs": [],
   "source": [
    "up_gmp_history_dict = up_gmp_history.history"
   ]
  },
  {
   "cell_type": "code",
   "execution_count": 87,
   "id": "098be579",
   "metadata": {},
   "outputs": [
    {
     "data": {
      "image/png": "[encoded data removed]",
      "text/plain": [
       "<Figure size 432x288 with 1 Axes>"
      ]
     },
     "metadata": {
      "needs_background": "light"
     },
     "output_type": "display_data"
    }
   ],
   "source": [
    "import matplotlib.pyplot as plt\n",
    "\n",
    "acc = up_gmp_history_dict['accuracy']\n",
    "val_acc = up_gmp_history_dict['val_accuracy']\n",
    "loss = up_gmp_history_dict['loss']\n",
    "val_loss = up_gmp_history_dict['val_loss']\n",
    "\n",
    "epochs = range(1, len(acc) + 1)\n",
    "\n",
    "# \"bo\"는 \"파란색 점\"입니다\n",
    "plt.plot(epochs, loss, 'bo', label='Training loss')\n",
    "# b는 \"파란 실선\"입니다\n",
    "plt.plot(epochs, val_loss, 'b', label='Validation loss')\n",
    "plt.title('Training and validation loss')\n",
    "plt.xlabel('Epochs')\n",
    "plt.ylabel('Loss')\n",
    "plt.legend()\n",
    "\n",
    "plt.show()"
   ]
  },
  {
   "cell_type": "code",
   "execution_count": 88,
   "id": "ed59efb5",
   "metadata": {
    "scrolled": true
   },
   "outputs": [
    {
     "data": {
      "image/png": "[encoded data removed]",
      "text/plain": [
       "<Figure size 432x288 with 1 Axes>"
      ]
     },
     "metadata": {
      "needs_background": "light"
     },
     "output_type": "display_data"
    }
   ],
   "source": [
    "plt.clf()   # 그림을 초기화합니다\n",
    "\n",
    "plt.plot(epochs, acc, 'bo', label='Training acc')\n",
    "plt.plot(epochs, val_acc, 'b', label='Validation acc')\n",
    "plt.title('Training and validation accuracy')\n",
    "plt.xlabel('Epochs')\n",
    "plt.ylabel('Accuracy')\n",
    "plt.legend()\n",
    "\n",
    "plt.show()"
   ]
  },
  {
   "cell_type": "code",
   "execution_count": 89,
   "id": "8302195c",
   "metadata": {},
   "outputs": [
    {
     "name": "stdout",
     "output_type": "stream",
     "text": [
      "1537/1537 - 2s - loss: 0.6299 - accuracy: 0.6222\n",
      "[0.6298578977584839, 0.6221901178359985]\n"
     ]
    }
   ],
   "source": [
    "# 테스트셋을 통한 모델 평가\n",
    "up_gmp_results = up_gmp_model.evaluate(X_test_pre,  y_test, verbose=2)\n",
    "print(up_gmp_results)"
   ]
  },
  {
   "cell_type": "code",
   "execution_count": 96,
   "id": "b7d3e47c",
   "metadata": {},
   "outputs": [
    {
     "data": {
      "image/png": "[encoded data removed]",
      "text/plain": [
       "<Figure size 1080x360 with 2 Axes>"
      ]
     },
     "metadata": {
      "needs_background": "light"
     },
     "output_type": "display_data"
    }
   ],
   "source": [
    "import matplotlib.pyplot as plt\n",
    "\n",
    "# 각 모델의 테스트 결과 저장\n",
    "results = {'RNN': rnn_results, 'CNN': cnn_results, 'GMP': gmp_results, \n",
    "           'RNN+Word2Vec': up_rnn_results, 'CNN+Word2Vec': up_cnn_results, 'GMP+Word2Vec': up_gmp_results}\n",
    "\n",
    "# 손실과 정확도 추출\n",
    "losses = [result[0] for result in results.values()]\n",
    "accuracies = [result[1] for result in results.values()]\n",
    "\n",
    "# 색상 리스트\n",
    "colors = ['blue', 'orange', 'green', 'red', 'purple', 'brown', 'pink', 'gray']\n",
    "\n",
    "# 시각화\n",
    "plt.figure(figsize=(15, 5))\n",
    "\n",
    "plt.subplot(1, 2, 1)\n",
    "plt.bar(results.keys(), losses, color=colors)\n",
    "for i, loss in enumerate(losses):\n",
    "    plt.text(i, loss, str(round(loss, 2)), ha='center', va='top', color='white', fontweight='heavy', fontsize=13)\n",
    "plt.xticks(rotation=30)\n",
    "plt.title('Test Loss')\n",
    "plt.xlabel('Model')\n",
    "plt.ylabel('Loss')\n",
    "\n",
    "plt.subplot(1, 2, 2)\n",
    "plt.bar(results.keys(), accuracies, color=colors)\n",
    "for i, acc in enumerate(accuracies):\n",
    "    plt.text(i, acc, str(round(acc*100, 2))+'%', ha='center', va='top', color='white', fontweight='heavy', fontsize=13)\n",
    "plt.xticks(rotation=30)\n",
    "plt.title('Test Accuracy')\n",
    "plt.xlabel('Model')\n",
    "plt.ylabel('Accuracy')\n",
    "\n",
    "plt.tight_layout()\n",
    "plt.show()"
   ]
  },
  {
   "cell_type": "markdown",
   "id": "0a434e9e",
   "metadata": {},
   "source": [
    "### 모델 성능 평가\n",
    "결과: RNN model에 사전학습된 Word2Vec Embedding layer를 추가하니 86.13%의 성능을 달성했다.\n",
    "\n",
    "의문점: Global Max Pooling 모델에 Word2Vec Embedding layer를 추가했을 때는 왜 성능이 떨어지는지 의문이 든다...",
    "\n" ,
    "모든 모델에서 배운 방법을 사용해도 과대적합이 일어나는데 이를 해결할 방법에 대해 좀 더 고민해야겠다.",
    "\n" ,
    "Word2Vec를 사용한다고 해서 눈에 띄는 성능 향상이 일어나지 않는 것 또한 의문이다."
   ]
  },
  {
   "cell_type": "code",
   "execution_count": null,
   "id": "27a0010d",
   "metadata": {},
   "outputs": [],
   "source": []
  }
 ],
 "metadata": {
  "kernelspec": {
   "display_name": "Python 3 (ipykernel)",
   "language": "python",
   "name": "python3"
  },
  "language_info": {
   "codemirror_mode": {
    "name": "ipython",
    "version": 3
   },
   "file_extension": ".py",
   "mimetype": "text/x-python",
   "name": "python",
   "nbconvert_exporter": "python",
   "pygments_lexer": "ipython3",
   "version": "3.9.7"
  }
 },
 "nbformat": 4,
 "nbformat_minor": 5
}
